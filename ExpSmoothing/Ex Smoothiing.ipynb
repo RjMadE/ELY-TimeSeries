{
 "cells": [
  {
   "cell_type": "code",
   "execution_count": 1,
   "id": "b8839cab",
   "metadata": {},
   "outputs": [],
   "source": [
    "import pandas as pd\n",
    "import numpy as np\n",
    "\n",
    "from statsmodels.tsa.arima.model import ARIMA\n",
    "from sklearn.metrics import mean_squared_error\n",
    "import matplotlib.pyplot as plt\n",
    "\n",
    "from sklearn.model_selection import train_test_split\n",
    "\n",
    "\n",
    "import statsmodels.api as sm\n",
    "import statsmodels.formula.api as smf\n",
    "\n",
    "from statsmodels.graphics.tsaplots import plot_acf, plot_pacf\n",
    "\n",
    "\n",
    "import xgboost\n",
    "import skforecast\n",
    "import sklearn\n",
    "from xgboost import XGBRegressor\n",
    "from sklearn.feature_selection import RFECV\n",
    "from skforecast.ForecasterAutoreg import ForecasterAutoreg\n",
    "from skforecast.model_selection import bayesian_search_forecaster\n",
    "from skforecast.model_selection import backtesting_forecaster\n",
    "from skforecast.model_selection import select_features\n",
    "from sklearn.model_selection import TimeSeriesSplit\n",
    "\n",
    "import shap\n",
    "\n",
    "\n",
    "from statsmodels.tsa.holtwinters import ExponentialSmoothing\n",
    "from sklearn.metrics import mean_absolute_error, mean_squared_error\n",
    "\n"
   ]
  },
  {
   "cell_type": "code",
   "execution_count": 2,
   "id": "b47b3363",
   "metadata": {},
   "outputs": [
    {
     "name": "stderr",
     "output_type": "stream",
     "text": [
      "numexpr.utils INFO  NumExpr defaulting to 8 threads.\n"
     ]
    },
    {
     "data": {
      "text/html": [
       "<div>\n",
       "<style scoped>\n",
       "    .dataframe tbody tr th:only-of-type {\n",
       "        vertical-align: middle;\n",
       "    }\n",
       "\n",
       "    .dataframe tbody tr th {\n",
       "        vertical-align: top;\n",
       "    }\n",
       "\n",
       "    .dataframe thead th {\n",
       "        text-align: right;\n",
       "    }\n",
       "</style>\n",
       "<table border=\"1\" class=\"dataframe\">\n",
       "  <thead>\n",
       "    <tr style=\"text-align: right;\">\n",
       "      <th></th>\n",
       "      <th>cell_voltage_001</th>\n",
       "      <th>current</th>\n",
       "      <th>current_density</th>\n",
       "      <th>temp_anode_inlet</th>\n",
       "      <th>temp_anode_outlet</th>\n",
       "      <th>temp_cathode_inlet</th>\n",
       "      <th>temp_cathode_outlet</th>\n",
       "      <th>pressure_anode_inlet</th>\n",
       "      <th>pressure_anode_outlet</th>\n",
       "      <th>pressure_cathode_inlet</th>\n",
       "      <th>pressure_cathode_outlet</th>\n",
       "      <th>flow_anode_di_water_supply</th>\n",
       "      <th>signal_in_resistivity_anode</th>\n",
       "      <th>signal_in_resistivity_cathode</th>\n",
       "      <th>signal_in_h2_in_o2_sensor</th>\n",
       "      <th>seconds</th>\n",
       "      <th>minutes</th>\n",
       "    </tr>\n",
       "  </thead>\n",
       "  <tbody>\n",
       "    <tr>\n",
       "      <th>0</th>\n",
       "      <td>-0.095167</td>\n",
       "      <td>-0.01262</td>\n",
       "      <td>-0.000505</td>\n",
       "      <td>22.524658</td>\n",
       "      <td>22.211363</td>\n",
       "      <td>22.943993</td>\n",
       "      <td>22.664978</td>\n",
       "      <td>0.015911</td>\n",
       "      <td>-0.026205</td>\n",
       "      <td>-0.009285</td>\n",
       "      <td>-0.009439</td>\n",
       "      <td>0.149858</td>\n",
       "      <td>0.142337</td>\n",
       "      <td>0.580925</td>\n",
       "      <td>0.278146</td>\n",
       "      <td>0</td>\n",
       "      <td>0</td>\n",
       "    </tr>\n",
       "    <tr>\n",
       "      <th>1</th>\n",
       "      <td>-0.095167</td>\n",
       "      <td>-0.01262</td>\n",
       "      <td>-0.000505</td>\n",
       "      <td>22.524658</td>\n",
       "      <td>22.211363</td>\n",
       "      <td>22.943993</td>\n",
       "      <td>22.664978</td>\n",
       "      <td>0.015911</td>\n",
       "      <td>-0.026205</td>\n",
       "      <td>-0.009285</td>\n",
       "      <td>-0.009439</td>\n",
       "      <td>0.149858</td>\n",
       "      <td>0.142337</td>\n",
       "      <td>0.580925</td>\n",
       "      <td>0.278146</td>\n",
       "      <td>0</td>\n",
       "      <td>0</td>\n",
       "    </tr>\n",
       "    <tr>\n",
       "      <th>2</th>\n",
       "      <td>-0.095167</td>\n",
       "      <td>-0.01262</td>\n",
       "      <td>-0.000505</td>\n",
       "      <td>22.524658</td>\n",
       "      <td>22.211363</td>\n",
       "      <td>22.943993</td>\n",
       "      <td>22.664978</td>\n",
       "      <td>0.015911</td>\n",
       "      <td>-0.026205</td>\n",
       "      <td>-0.009285</td>\n",
       "      <td>-0.009439</td>\n",
       "      <td>0.149858</td>\n",
       "      <td>0.142337</td>\n",
       "      <td>0.580925</td>\n",
       "      <td>0.278146</td>\n",
       "      <td>0</td>\n",
       "      <td>0</td>\n",
       "    </tr>\n",
       "    <tr>\n",
       "      <th>3</th>\n",
       "      <td>-0.095167</td>\n",
       "      <td>-0.01192</td>\n",
       "      <td>-0.000477</td>\n",
       "      <td>23.574999</td>\n",
       "      <td>22.622944</td>\n",
       "      <td>22.930300</td>\n",
       "      <td>22.651320</td>\n",
       "      <td>0.184089</td>\n",
       "      <td>-0.026205</td>\n",
       "      <td>-0.009285</td>\n",
       "      <td>-0.001021</td>\n",
       "      <td>0.270174</td>\n",
       "      <td>0.132591</td>\n",
       "      <td>0.585798</td>\n",
       "      <td>0.276583</td>\n",
       "      <td>30</td>\n",
       "      <td>0</td>\n",
       "    </tr>\n",
       "    <tr>\n",
       "      <th>4</th>\n",
       "      <td>-0.095167</td>\n",
       "      <td>-0.01192</td>\n",
       "      <td>-0.000477</td>\n",
       "      <td>23.574999</td>\n",
       "      <td>22.622944</td>\n",
       "      <td>22.930300</td>\n",
       "      <td>22.651320</td>\n",
       "      <td>0.184089</td>\n",
       "      <td>-0.026205</td>\n",
       "      <td>-0.009285</td>\n",
       "      <td>-0.001021</td>\n",
       "      <td>0.270174</td>\n",
       "      <td>0.132591</td>\n",
       "      <td>0.585798</td>\n",
       "      <td>0.276583</td>\n",
       "      <td>30</td>\n",
       "      <td>0</td>\n",
       "    </tr>\n",
       "    <tr>\n",
       "      <th>...</th>\n",
       "      <td>...</td>\n",
       "      <td>...</td>\n",
       "      <td>...</td>\n",
       "      <td>...</td>\n",
       "      <td>...</td>\n",
       "      <td>...</td>\n",
       "      <td>...</td>\n",
       "      <td>...</td>\n",
       "      <td>...</td>\n",
       "      <td>...</td>\n",
       "      <td>...</td>\n",
       "      <td>...</td>\n",
       "      <td>...</td>\n",
       "      <td>...</td>\n",
       "      <td>...</td>\n",
       "      <td>...</td>\n",
       "      <td>...</td>\n",
       "    </tr>\n",
       "    <tr>\n",
       "      <th>461237</th>\n",
       "      <td>1.879790</td>\n",
       "      <td>75.00482</td>\n",
       "      <td>3.000193</td>\n",
       "      <td>79.819145</td>\n",
       "      <td>78.329117</td>\n",
       "      <td>29.627552</td>\n",
       "      <td>34.574463</td>\n",
       "      <td>1.992006</td>\n",
       "      <td>1.723834</td>\n",
       "      <td>6.002450</td>\n",
       "      <td>6.019177</td>\n",
       "      <td>0.300858</td>\n",
       "      <td>0.230055</td>\n",
       "      <td>0.152083</td>\n",
       "      <td>0.104703</td>\n",
       "      <td>4934550</td>\n",
       "      <td>82242</td>\n",
       "    </tr>\n",
       "    <tr>\n",
       "      <th>461238</th>\n",
       "      <td>1.879790</td>\n",
       "      <td>75.00482</td>\n",
       "      <td>3.000193</td>\n",
       "      <td>79.819145</td>\n",
       "      <td>78.329117</td>\n",
       "      <td>29.627552</td>\n",
       "      <td>34.574463</td>\n",
       "      <td>1.992006</td>\n",
       "      <td>1.723834</td>\n",
       "      <td>6.002450</td>\n",
       "      <td>6.019177</td>\n",
       "      <td>0.300858</td>\n",
       "      <td>0.230055</td>\n",
       "      <td>0.152083</td>\n",
       "      <td>0.104703</td>\n",
       "      <td>4934550</td>\n",
       "      <td>82242</td>\n",
       "    </tr>\n",
       "    <tr>\n",
       "      <th>461239</th>\n",
       "      <td>1.880171</td>\n",
       "      <td>75.00482</td>\n",
       "      <td>2.999912</td>\n",
       "      <td>79.819145</td>\n",
       "      <td>78.354111</td>\n",
       "      <td>29.627552</td>\n",
       "      <td>34.560806</td>\n",
       "      <td>1.992006</td>\n",
       "      <td>1.723834</td>\n",
       "      <td>6.002450</td>\n",
       "      <td>5.960248</td>\n",
       "      <td>0.300858</td>\n",
       "      <td>0.215435</td>\n",
       "      <td>0.156957</td>\n",
       "      <td>0.103140</td>\n",
       "      <td>4934580</td>\n",
       "      <td>82243</td>\n",
       "    </tr>\n",
       "    <tr>\n",
       "      <th>461240</th>\n",
       "      <td>1.880171</td>\n",
       "      <td>75.00482</td>\n",
       "      <td>2.999912</td>\n",
       "      <td>79.819145</td>\n",
       "      <td>78.354111</td>\n",
       "      <td>29.627552</td>\n",
       "      <td>34.560806</td>\n",
       "      <td>1.992006</td>\n",
       "      <td>1.723834</td>\n",
       "      <td>6.002450</td>\n",
       "      <td>5.960248</td>\n",
       "      <td>0.300858</td>\n",
       "      <td>0.215435</td>\n",
       "      <td>0.156957</td>\n",
       "      <td>0.103140</td>\n",
       "      <td>4934580</td>\n",
       "      <td>82243</td>\n",
       "    </tr>\n",
       "    <tr>\n",
       "      <th>461241</th>\n",
       "      <td>1.880171</td>\n",
       "      <td>75.00482</td>\n",
       "      <td>2.999912</td>\n",
       "      <td>79.819145</td>\n",
       "      <td>78.354111</td>\n",
       "      <td>29.627552</td>\n",
       "      <td>34.560806</td>\n",
       "      <td>1.992006</td>\n",
       "      <td>1.723834</td>\n",
       "      <td>6.002450</td>\n",
       "      <td>5.960248</td>\n",
       "      <td>0.300858</td>\n",
       "      <td>0.215435</td>\n",
       "      <td>0.156957</td>\n",
       "      <td>0.103140</td>\n",
       "      <td>4934580</td>\n",
       "      <td>82243</td>\n",
       "    </tr>\n",
       "  </tbody>\n",
       "</table>\n",
       "<p>461242 rows × 17 columns</p>\n",
       "</div>"
      ],
      "text/plain": [
       "        cell_voltage_001   current  current_density  temp_anode_inlet  \\\n",
       "0              -0.095167  -0.01262        -0.000505         22.524658   \n",
       "1              -0.095167  -0.01262        -0.000505         22.524658   \n",
       "2              -0.095167  -0.01262        -0.000505         22.524658   \n",
       "3              -0.095167  -0.01192        -0.000477         23.574999   \n",
       "4              -0.095167  -0.01192        -0.000477         23.574999   \n",
       "...                  ...       ...              ...               ...   \n",
       "461237          1.879790  75.00482         3.000193         79.819145   \n",
       "461238          1.879790  75.00482         3.000193         79.819145   \n",
       "461239          1.880171  75.00482         2.999912         79.819145   \n",
       "461240          1.880171  75.00482         2.999912         79.819145   \n",
       "461241          1.880171  75.00482         2.999912         79.819145   \n",
       "\n",
       "        temp_anode_outlet  temp_cathode_inlet  temp_cathode_outlet  \\\n",
       "0               22.211363           22.943993            22.664978   \n",
       "1               22.211363           22.943993            22.664978   \n",
       "2               22.211363           22.943993            22.664978   \n",
       "3               22.622944           22.930300            22.651320   \n",
       "4               22.622944           22.930300            22.651320   \n",
       "...                   ...                 ...                  ...   \n",
       "461237          78.329117           29.627552            34.574463   \n",
       "461238          78.329117           29.627552            34.574463   \n",
       "461239          78.354111           29.627552            34.560806   \n",
       "461240          78.354111           29.627552            34.560806   \n",
       "461241          78.354111           29.627552            34.560806   \n",
       "\n",
       "        pressure_anode_inlet  pressure_anode_outlet  pressure_cathode_inlet  \\\n",
       "0                   0.015911              -0.026205               -0.009285   \n",
       "1                   0.015911              -0.026205               -0.009285   \n",
       "2                   0.015911              -0.026205               -0.009285   \n",
       "3                   0.184089              -0.026205               -0.009285   \n",
       "4                   0.184089              -0.026205               -0.009285   \n",
       "...                      ...                    ...                     ...   \n",
       "461237              1.992006               1.723834                6.002450   \n",
       "461238              1.992006               1.723834                6.002450   \n",
       "461239              1.992006               1.723834                6.002450   \n",
       "461240              1.992006               1.723834                6.002450   \n",
       "461241              1.992006               1.723834                6.002450   \n",
       "\n",
       "        pressure_cathode_outlet  flow_anode_di_water_supply  \\\n",
       "0                     -0.009439                    0.149858   \n",
       "1                     -0.009439                    0.149858   \n",
       "2                     -0.009439                    0.149858   \n",
       "3                     -0.001021                    0.270174   \n",
       "4                     -0.001021                    0.270174   \n",
       "...                         ...                         ...   \n",
       "461237                 6.019177                    0.300858   \n",
       "461238                 6.019177                    0.300858   \n",
       "461239                 5.960248                    0.300858   \n",
       "461240                 5.960248                    0.300858   \n",
       "461241                 5.960248                    0.300858   \n",
       "\n",
       "        signal_in_resistivity_anode  signal_in_resistivity_cathode  \\\n",
       "0                          0.142337                       0.580925   \n",
       "1                          0.142337                       0.580925   \n",
       "2                          0.142337                       0.580925   \n",
       "3                          0.132591                       0.585798   \n",
       "4                          0.132591                       0.585798   \n",
       "...                             ...                            ...   \n",
       "461237                     0.230055                       0.152083   \n",
       "461238                     0.230055                       0.152083   \n",
       "461239                     0.215435                       0.156957   \n",
       "461240                     0.215435                       0.156957   \n",
       "461241                     0.215435                       0.156957   \n",
       "\n",
       "        signal_in_h2_in_o2_sensor  seconds  minutes  \n",
       "0                        0.278146        0        0  \n",
       "1                        0.278146        0        0  \n",
       "2                        0.278146        0        0  \n",
       "3                        0.276583       30        0  \n",
       "4                        0.276583       30        0  \n",
       "...                           ...      ...      ...  \n",
       "461237                   0.104703  4934550    82242  \n",
       "461238                   0.104703  4934550    82242  \n",
       "461239                   0.103140  4934580    82243  \n",
       "461240                   0.103140  4934580    82243  \n",
       "461241                   0.103140  4934580    82243  \n",
       "\n",
       "[461242 rows x 17 columns]"
      ]
     },
     "execution_count": 2,
     "metadata": {},
     "output_type": "execute_result"
    }
   ],
   "source": [
    "df = pd.read_csv(r'C:\\Users\\whiter04\\OneDrive - Johnson Matthey\\00. cspark\\ELY\\ELY-TimeSeries\\Data\\master_data_frame.csv')\n",
    "df_copy = df.copy()\n",
    "df_copy = df_copy.drop('Unnamed: 0',axis=1) \n",
    "df_copy\n",
    "\n",
    "\n",
    "to_drop = ['temp_anode_inlet_set', \n",
    "           'temp_cathode_inlet_set', \n",
    "           'pressure_anode_set',\n",
    "           'pressure_cathode_set', \n",
    "           'flow_anode_di_water_supply_set', \n",
    "           'flow_cathode_di_water_supply_set', \n",
    "          'flow_cathode_di_water_supply', \n",
    "           'signal_in_o2_in_h2_sensor']\n",
    "\n",
    "df_copy = df_copy.drop(to_drop, axis=1)\n",
    "df_copy\n",
    "\n",
    "\n",
    "df_copy['seconds'] = (df_copy['time_running_total']/1000).astype(int)\n",
    "df_copy['minutes'] = (df_copy['seconds']/60).astype(int)\n",
    "\n",
    "# df_copy['hours'] = (df_copy['minutes']/60).astype(int)\n",
    "# df_copy['days'] = (df_copy['hours']/24).astype(int)\n",
    "# df_copy['weeks'] = (df_copy['days']/7).astype(int)\n",
    "df_copy = df_copy.drop('time_running_total',axis=1)\n",
    "\n",
    "# df_copy = df_copy.tail(150000)\n",
    "df_copy"
   ]
  },
  {
   "cell_type": "code",
   "execution_count": 10,
   "id": "8272bb60",
   "metadata": {},
   "outputs": [
    {
     "data": {
      "image/png": "[encoded data removed]",
      "text/plain": [
       "<Figure size 432x288 with 1 Axes>"
      ]
     },
     "metadata": {
      "needs_background": "light"
     },
     "output_type": "display_data"
    }
   ],
   "source": [
    "import matplotlib.pyplot as plt\n",
    "\n",
    "time_period = 'minutes'\n",
    "\n",
    "df_time = df_copy.groupby(time_period).mean().reset_index()\n",
    "\n",
    "downsampled_df = df_time.tail(21000).reset_index()\n",
    "\n",
    "downsampled_df = downsampled_df[['signal_in_h2_in_o2_sensor']]\n",
    "downsampled_df\n",
    "\n",
    "\n",
    "\n",
    "def moving_average(data, window=3):\n",
    "    return data.rolling(window=window).mean()\n",
    "\n",
    "\n",
    "downsampled_1_df = pd.DataFrame()\n",
    "\n",
    "\n",
    "downsampled_1_df['smoothed_value'] = moving_average(downsampled_df['signal_in_h2_in_o2_sensor'], window=3)\n",
    "downsampled_1_df = downsampled_1_df.dropna()\n",
    "\n",
    "\n",
    "\n",
    "\n",
    "test_li = []\n",
    "\n",
    "skip = 5\n",
    "\n",
    "for i in range(0, len(downsampled_1_df['smoothed_value']), skip):\n",
    "    x = downsampled_1_df['smoothed_value'].iloc[i]\n",
    "    test_li.append(x)\n",
    "    \n",
    "    \n",
    "plt.scatter(x =list(range(0,len(test_li),1)) , y=test_li)\n",
    "\n",
    "test_li = pd.DataFrame(test_li) \n"
   ]
  },
  {
   "cell_type": "code",
   "execution_count": 11,
   "id": "bfd3763d",
   "metadata": {},
   "outputs": [],
   "source": [
    "n = 0.8\n",
    "n = int(n * len(test_li))\n",
    "\n",
    "train, test = test_li.iloc[:n], test_li.iloc[n:]\n",
    "\n",
    "\n"
   ]
  },
  {
   "cell_type": "code",
   "execution_count": 13,
   "id": "de7a7324",
   "metadata": {},
   "outputs": [
    {
     "data": {
      "image/png": "[encoded data removed]",
      "text/plain": [
       "<Figure size 1008x504 with 1 Axes>"
      ]
     },
     "metadata": {
      "needs_background": "light"
     },
     "output_type": "display_data"
    },
    {
     "name": "stdout",
     "output_type": "stream",
     "text": [
      "mean_absolute_error: 0.06954168536982362\n",
      "Percentage RMSE: 51.62621804534832%\n"
     ]
    }
   ],
   "source": [
    "model = ExponentialSmoothing(train, trend=None, seasonal=None).fit()\n",
    "y_es_pred = model.predict(start=test.index[0], end=test.index[-1])\n",
    "\n",
    "\n",
    "y_pred_series = pd.Series(y_es_pred, index=test.index)\n",
    "\n",
    "\n",
    "# Plotting\n",
    "plt.figure(figsize=(14, 7))\n",
    "\n",
    "plt.plot(test.index, test[0], label='Actual', color='blue')\n",
    "plt.plot(test.index, y_pred_series, label='Predicted', color='red', linestyle='--')\n",
    "\n",
    "plt.xlabel('Index')\n",
    "plt.ylabel('Values')\n",
    "plt.title('Actual vs Predicted')\n",
    "plt.legend()\n",
    "plt.grid(True)\n",
    "plt.show()\n",
    "\n",
    "\n",
    "print(f'mean_absolute_error: {mean_absolute_error(test[0], y_pred_series )}')\n",
    "\n",
    "rmse = np.sqrt(mean_squared_error( test[0], y_pred_series))\n",
    "percentage_rmse = (rmse / test[0].mean()) * 100\n",
    "print(f\"Percentage RMSE: {percentage_rmse}%\")"
   ]
  },
  {
   "cell_type": "code",
   "execution_count": 14,
   "id": "9ed559f1",
   "metadata": {},
   "outputs": [
    {
     "data": {
      "image/png": "[encoded data removed]",
      "text/plain": [
       "<Figure size 1008x504 with 1 Axes>"
      ]
     },
     "metadata": {
      "needs_background": "light"
     },
     "output_type": "display_data"
    },
    {
     "name": "stdout",
     "output_type": "stream",
     "text": [
      "mean_absolute_error: 0.07753837833907155\n",
      "Percentage RMSE: 56.68599400287917%\n"
     ]
    }
   ],
   "source": [
    "model = ExponentialSmoothing(train, trend='add', seasonal=None).fit()\n",
    "y_es_pred = model.predict(start=test.index[0], end=test.index[-1])\n",
    "\n",
    "\n",
    "y_pred_series = pd.Series(y_es_pred, index=test.index)\n",
    "\n",
    "\n",
    "# Plotting\n",
    "plt.figure(figsize=(14, 7))\n",
    "\n",
    "plt.plot(test.index, test[0], label='Actual', color='blue')\n",
    "plt.plot(test.index, y_pred_series, label='Predicted', color='red', linestyle='--')\n",
    "\n",
    "plt.xlabel('Index')\n",
    "plt.ylabel('Values')\n",
    "plt.title('Actual vs Predicted')\n",
    "plt.legend()\n",
    "plt.grid(True)\n",
    "plt.show()\n",
    "\n",
    "print(f'mean_absolute_error: {mean_absolute_error(test[0], y_pred_series )}')\n",
    "rmse = np.sqrt(mean_squared_error( test[0], y_pred_series))\n",
    "percentage_rmse = (rmse / test[0].mean()) * 100\n",
    "print(f\"Percentage RMSE: {percentage_rmse}%\")"
   ]
  },
  {
   "cell_type": "code",
   "execution_count": 16,
   "id": "fe6c9d2e",
   "metadata": {},
   "outputs": [
    {
     "name": "stderr",
     "output_type": "stream",
     "text": [
      "Optimization failed to converge. Check mle_retvals.\n"
     ]
    },
    {
     "data": {
      "image/png": "[encoded data removed]",
      "text/plain": [
       "<Figure size 1008x504 with 1 Axes>"
      ]
     },
     "metadata": {
      "needs_background": "light"
     },
     "output_type": "display_data"
    },
    {
     "name": "stdout",
     "output_type": "stream",
     "text": [
      "mean_absolute_error: 0.06069273896246256\n",
      "Percentage RMSE: 58.68041960862445%\n"
     ]
    }
   ],
   "source": [
    "\n",
    "\n",
    "\n",
    "model = ExponentialSmoothing(train, trend='add', seasonal='add', seasonal_periods=1400).fit()\n",
    "y_es_pred = model.predict(start=test.index[0], end=test.index[-1])\n",
    "\n",
    "\n",
    "y_pred_series = pd.Series(y_es_pred, index=test.index)\n",
    "\n",
    "\n",
    "# Plotting\n",
    "plt.figure(figsize=(14, 7))\n",
    "\n",
    "plt.plot(test.index, test[0], label='Actual', color='blue')\n",
    "plt.plot(test.index, y_pred_series, label='Predicted', color='red', linestyle='--')\n",
    "\n",
    "plt.xlabel('Index')\n",
    "plt.ylabel('Values')\n",
    "plt.title('Actual vs Predicted')\n",
    "plt.legend()\n",
    "plt.grid(True)\n",
    "plt.show()\n",
    "\n",
    "\n",
    "print(f'mean_absolute_error: {mean_absolute_error(test[0], y_pred_series )}')\n",
    "\n",
    "rmse = np.sqrt(mean_squared_error( test[0], y_pred_series))\n",
    "percentage_rmse = (rmse / test[0].mean()) * 100\n",
    "print(f\"Percentage RMSE: {percentage_rmse}%\")"
   ]
  },
  {
   "cell_type": "code",
   "execution_count": 17,
   "id": "e8044f1b",
   "metadata": {},
   "outputs": [
    {
     "name": "stderr",
     "output_type": "stream",
     "text": [
      "Optimization failed to converge. Check mle_retvals.\n"
     ]
    },
    {
     "data": {
      "image/png": "[encoded data removed]",
      "text/plain": [
       "<Figure size 1008x504 with 1 Axes>"
      ]
     },
     "metadata": {
      "needs_background": "light"
     },
     "output_type": "display_data"
    },
    {
     "name": "stdout",
     "output_type": "stream",
     "text": [
      "mean_absolute_error: 0.02473499344228604\n",
      "Percentage RMSE: 26.435043161547057%\n"
     ]
    }
   ],
   "source": [
    "\n",
    "model = ExponentialSmoothing(train, trend='add', seasonal='add', seasonal_periods=1450).fit()\n",
    "y_es_pred = model.predict(start=test.index[0], end=test.index[-1])\n",
    "\n",
    "\n",
    "y_pred_series = pd.Series(y_es_pred, index=test.index)\n",
    "\n",
    "\n",
    "# Plotting\n",
    "plt.figure(figsize=(14, 7))\n",
    "\n",
    "plt.plot(test.index, test[0], label='Actual', color='blue')\n",
    "plt.plot(test.index, y_pred_series, label='Predicted', color='red', linestyle='--')\n",
    "\n",
    "plt.xlabel('Index')\n",
    "plt.ylabel('Values')\n",
    "plt.title('Actual vs Predicted')\n",
    "plt.legend()\n",
    "plt.grid(True)\n",
    "plt.show()\n",
    "\n",
    "\n",
    "print(f'mean_absolute_error: {mean_absolute_error(test[0], y_pred_series )}')\n",
    "\n",
    "rmse = np.sqrt(mean_squared_error( test[0], y_pred_series))\n",
    "percentage_rmse = (rmse / test[0].mean()) * 100\n",
    "print(f\"Percentage RMSE: {percentage_rmse}%\")\n"
   ]
  },
  {
   "cell_type": "code",
   "execution_count": 18,
   "id": "2aabe9c6",
   "metadata": {},
   "outputs": [
    {
     "data": {
      "image/png": "[encoded data removed]",
      "text/plain": [
       "<Figure size 1008x504 with 1 Axes>"
      ]
     },
     "metadata": {
      "needs_background": "light"
     },
     "output_type": "display_data"
    },
    {
     "name": "stdout",
     "output_type": "stream",
     "text": [
      "mean_absolute_error: 0.0139399057085823\n",
      "Percentage RMSE: 13.919517137078124%\n"
     ]
    }
   ],
   "source": [
    "\n",
    "model = ExponentialSmoothing(train, trend='add', seasonal='add', seasonal_periods=1475).fit()\n",
    "y_es_pred = model.predict(start=test.index[0], end=test.index[-1])\n",
    "\n",
    "\n",
    "y_pred_series = pd.Series(y_es_pred, index=test.index)\n",
    "\n",
    "\n",
    "# Plotting\n",
    "plt.figure(figsize=(14, 7))\n",
    "\n",
    "plt.plot(test.index, test[0], label='Actual', color='blue')\n",
    "plt.plot(test.index, y_pred_series, label='Predicted', color='red', linestyle='--')\n",
    "\n",
    "plt.xlabel('Index')\n",
    "plt.ylabel('Values')\n",
    "plt.title('Actual vs Predicted')\n",
    "plt.legend()\n",
    "plt.grid(True)\n",
    "plt.show()\n",
    "\n",
    "\n",
    "print(f'mean_absolute_error: {mean_absolute_error(test[0], y_pred_series )}')\n",
    "\n",
    "rmse = np.sqrt(mean_squared_error( test[0], y_pred_series))\n",
    "percentage_rmse = (rmse / test[0].mean()) * 100\n",
    "print(f\"Percentage RMSE: {percentage_rmse}%\")"
   ]
  },
  {
   "cell_type": "code",
   "execution_count": 100,
   "id": "fec816e3",
   "metadata": {
    "scrolled": true
   },
   "outputs": [
    {
     "name": "stderr",
     "output_type": "stream",
     "text": [
      "the 'smoothing_slope'' keyword is deprecated, use 'smoothing_trend' instead\n",
      "the 'damping_slope'' keyword is deprecated, use 'damping_trend' instead\n"
     ]
    },
    {
     "name": "stdout",
     "output_type": "stream",
     "text": [
      "Current parameters: [0.5742756945800148, 0.5925433665209021, 0.2588042291105995, 0.9694503477568251, 1522, 'add']\n",
      "Residuals: 0      -0.000159\n",
      "1       0.000204\n",
      "2       0.000039\n",
      "3      -0.000853\n",
      "4       0.000481\n",
      "          ...   \n",
      "3355   -0.001235\n",
      "3356   -0.000549\n",
      "3357   -0.000301\n",
      "3358    0.003353\n",
      "3359   -0.002582\n",
      "Length: 3360, dtype: float64\n",
      "0.004835783715296659\n",
      "Percentage RMSE: 2.991423187382638%\n",
      "Current parameters: [0.3380276852355779, 0.049131954349035806, 0.08907032542823283, 0.89553302346427, 1536, 'add']\n",
      "Residuals: 0      -0.000540\n",
      "1       0.000606\n",
      "2       0.000073\n",
      "3      -0.000058\n",
      "4       0.000478\n",
      "          ...   \n",
      "3355   -0.001770\n",
      "3356   -0.000417\n",
      "3357   -0.001049\n",
      "3358    0.002005\n",
      "3359   -0.001199\n",
      "Length: 3360, dtype: float64\n",
      "0.005252111244255428\n",
      "Percentage RMSE: 3.2489640322581983%\n",
      "Current parameters: [0.4142278368806639, 0.5868943468407907, 0.10784488652100784, 0.9296343744102394, 1503, 'add']\n",
      "Residuals: 0      -0.000655\n",
      "1       0.000531\n",
      "2       0.000301\n",
      "3      -0.000446\n",
      "4      -0.000148\n",
      "          ...   \n",
      "3355   -0.001697\n",
      "3356    0.000047\n",
      "3357    0.000147\n",
      "3358    0.003485\n",
      "3359   -0.000926\n",
      "Length: 3360, dtype: float64\n",
      "0.0047849506841522275\n",
      "Percentage RMSE: 2.9599777967276784%\n",
      "Current parameters: [0.21228062433011616, 0.6103602082673212, 0.14734633312937606, 0.9601821503959289, 1514, 'add']\n",
      "Residuals: 0      -0.001161\n",
      "1      -0.000113\n",
      "2       0.000772\n",
      "3      -0.000432\n",
      "4       0.000627\n",
      "          ...   \n",
      "3355   -0.002243\n",
      "3356   -0.001765\n",
      "3357   -0.001497\n",
      "3358    0.002598\n",
      "3359   -0.000808\n",
      "Length: 3360, dtype: float64\n",
      "0.006059734364035545\n",
      "Percentage RMSE: 3.7485609268700038%\n",
      "Current parameters: [0.6765061237807335, 0.41159365653182395, 0.16583823654021312, 0.9517231248644715, 1483, 'add']\n",
      "Residuals: 0      -0.000269\n",
      "1       0.000837\n",
      "2      -0.000470\n",
      "3      -0.001022\n",
      "4       0.000436\n",
      "          ...   \n",
      "3355    0.000812\n",
      "3356    0.000614\n",
      "3357   -0.000232\n",
      "3358    0.004517\n",
      "3359   -0.003631\n",
      "Length: 3360, dtype: float64\n",
      "0.004380851391905327\n",
      "Percentage RMSE: 2.710001357746653%\n",
      "Current parameters: [0.249065874661408, 0.5184735422189811, 0.07279960278306785, 0.8270436346810904, 1499, 'add']\n",
      "Residuals: 0      -0.000587\n",
      "1       0.000248\n",
      "2       0.000134\n",
      "3      -0.000001\n",
      "4       0.000225\n",
      "          ...   \n",
      "3355   -0.001478\n",
      "3356   -0.000515\n",
      "3357   -0.001211\n",
      "3358    0.002041\n",
      "3359   -0.000994\n",
      "Length: 3360, dtype: float64\n",
      "0.00528909492396931\n",
      "Percentage RMSE: 3.2718421929792583%\n",
      "Current parameters: [0.27785711060127016, 0.2766773969768448, 0.2717535579035274, 0.8899899979822455, 1521, 'add']\n",
      "Residuals: 0      -0.000769\n",
      "1       0.000950\n",
      "2       0.000139\n",
      "3      -0.000279\n",
      "4       0.000050\n",
      "          ...   \n",
      "3355   -0.002145\n",
      "3356   -0.001266\n",
      "3357   -0.001685\n",
      "3358    0.002494\n",
      "3359   -0.001622\n",
      "Length: 3360, dtype: float64\n",
      "0.005796787059755757\n",
      "Percentage RMSE: 3.585901323092819%\n",
      "Current parameters: [0.17942428028717913, 0.6791682567452568, 0.19941061038140195, 0.8341819170272091, 1502, 'add']\n",
      "Residuals: 0      -0.000971\n",
      "1       0.000302\n",
      "2       0.000363\n",
      "3      -0.000213\n",
      "4       0.000406\n",
      "          ...   \n",
      "3355   -0.002213\n",
      "3356   -0.001054\n",
      "3357   -0.000574\n",
      "3358    0.003017\n",
      "3359   -0.000307\n",
      "Length: 3360, dtype: float64\n",
      "0.005909450538069691\n",
      "Percentage RMSE: 3.6555951227417576%\n",
      "Current parameters: [0.5862645349723743, 0.23428258801576324, 0.02114337367709307, 0.926854811591467, 1547, 'add']\n",
      "Residuals: 0      -0.000359\n",
      "1       0.000558\n",
      "2       0.000204\n",
      "3      -0.000331\n",
      "4       0.000598\n",
      "          ...   \n",
      "3355   -0.001654\n",
      "3356    0.000358\n",
      "3357   -0.000007\n",
      "3358    0.002228\n",
      "3359   -0.002167\n",
      "Length: 3360, dtype: float64\n",
      "0.004241879958470827\n",
      "Percentage RMSE: 2.6240334169049766%\n",
      "Current parameters: [0.6080470988828511, 0.6967567016977426, 0.17873659553717497, 0.8828737176452738, 1511, 'add']\n",
      "Residuals: 0      -0.000360\n",
      "1       0.000743\n",
      "2      -0.000726\n",
      "3      -0.001392\n",
      "4       0.000157\n",
      "          ...   \n",
      "3355   -0.000705\n",
      "3356    0.001343\n",
      "3357    0.000678\n",
      "3358    0.003473\n",
      "3359   -0.001847\n",
      "Length: 3360, dtype: float64\n",
      "0.004521889736995523\n",
      "Percentage RMSE: 2.7972478932933744%\n"
     ]
    },
    {
     "name": "stderr",
     "output_type": "stream",
     "text": [
      "the 'smoothing_slope'' keyword is deprecated, use 'smoothing_trend' instead\n",
      "the 'damping_slope'' keyword is deprecated, use 'damping_trend' instead\n",
      "Optimization failed to converge. Check mle_retvals.\n"
     ]
    },
    {
     "name": "stdout",
     "output_type": "stream",
     "text": [
      "Current parameters: [0.9, 0.07947062325171465, 0.01, 0.8, 1550, 'add']\n",
      "Residuals: 0      -0.000032\n",
      "1       0.000716\n",
      "2       0.000171\n",
      "3      -0.000779\n",
      "4       0.000374\n",
      "          ...   \n",
      "3355    0.000157\n",
      "3356    0.000914\n",
      "3357   -0.000437\n",
      "3358    0.002420\n",
      "3359   -0.002211\n",
      "Length: 3360, dtype: float64\n",
      "0.003771785935752633\n",
      "Percentage RMSE: 2.3332325369233295%\n"
     ]
    },
    {
     "name": "stderr",
     "output_type": "stream",
     "text": [
      "the 'smoothing_slope'' keyword is deprecated, use 'smoothing_trend' instead\n",
      "the 'damping_slope'' keyword is deprecated, use 'damping_trend' instead\n"
     ]
    },
    {
     "name": "stdout",
     "output_type": "stream",
     "text": [
      "Current parameters: [0.9, 0.33191806308885685, 0.01, 1.0, 1475, 'add']\n",
      "Residuals: 0      -0.000075\n",
      "1       0.000537\n",
      "2      -0.000203\n",
      "3      -0.000916\n",
      "4       0.000749\n",
      "          ...   \n",
      "3355   -0.002196\n",
      "3356   -0.000548\n",
      "3357   -0.000239\n",
      "3358    0.003416\n",
      "3359   -0.002044\n",
      "Length: 3360, dtype: float64\n",
      "0.0041180900784485155\n",
      "Percentage RMSE: 2.5474568081764493%\n"
     ]
    },
    {
     "name": "stderr",
     "output_type": "stream",
     "text": [
      "the 'smoothing_slope'' keyword is deprecated, use 'smoothing_trend' instead\n",
      "the 'damping_slope'' keyword is deprecated, use 'damping_trend' instead\n"
     ]
    },
    {
     "name": "stdout",
     "output_type": "stream",
     "text": [
      "Current parameters: [0.7836086179926759, 0.10704001900767267, 0.01, 0.8, 1480, 'add']\n",
      "Residuals: 0      -0.000160\n",
      "1       0.000516\n",
      "2       0.000096\n",
      "3      -0.001050\n",
      "4       0.000557\n",
      "          ...   \n",
      "3355    0.000582\n",
      "3356    0.000916\n",
      "3357    0.000030\n",
      "3358    0.002434\n",
      "3359   -0.002455\n",
      "Length: 3360, dtype: float64\n",
      "0.003917381876917574\n",
      "Percentage RMSE: 2.423298408358377%\n"
     ]
    },
    {
     "name": "stderr",
     "output_type": "stream",
     "text": [
      "the 'smoothing_slope'' keyword is deprecated, use 'smoothing_trend' instead\n",
      "the 'damping_slope'' keyword is deprecated, use 'damping_trend' instead\n"
     ]
    },
    {
     "name": "stdout",
     "output_type": "stream",
     "text": [
      "Current parameters: [0.8945532850603143, 0.2821229395903713, 0.28334583314668865, 0.8095094141515451, 1489, 'add']\n",
      "Residuals: 0       0.000074\n",
      "1       0.000193\n",
      "2      -0.000271\n",
      "3      -0.000451\n",
      "4       0.000472\n",
      "          ...   \n",
      "3355   -0.002267\n",
      "3356    0.000063\n",
      "3357   -0.000661\n",
      "3358    0.001792\n",
      "3359   -0.004503\n",
      "Length: 3360, dtype: float64\n",
      "0.004316807451597676\n",
      "Percentage RMSE: 2.6703836785188497%\n"
     ]
    },
    {
     "name": "stderr",
     "output_type": "stream",
     "text": [
      "the 'smoothing_slope'' keyword is deprecated, use 'smoothing_trend' instead\n",
      "the 'damping_slope'' keyword is deprecated, use 'damping_trend' instead\n"
     ]
    },
    {
     "name": "stdout",
     "output_type": "stream",
     "text": [
      "Current parameters: [0.6808019480602091, 0.12080347535287632, 0.2624909365537947, 0.9136684899155515, 1503, 'add']\n",
      "Residuals: 0      -0.000020\n",
      "1       0.000677\n",
      "2       0.000143\n",
      "3      -0.000473\n",
      "4      -0.000191\n",
      "          ...   \n",
      "3355   -0.001732\n",
      "3356    0.000171\n",
      "3357   -0.000363\n",
      "3358    0.003518\n",
      "3359   -0.001989\n",
      "Length: 3360, dtype: float64\n",
      "0.0043616839346500595\n",
      "Percentage RMSE: 2.69814433943229%\n"
     ]
    },
    {
     "name": "stderr",
     "output_type": "stream",
     "text": [
      "the 'smoothing_slope'' keyword is deprecated, use 'smoothing_trend' instead\n",
      "the 'damping_slope'' keyword is deprecated, use 'damping_trend' instead\n"
     ]
    },
    {
     "name": "stdout",
     "output_type": "stream",
     "text": [
      "Current parameters: [0.2781173445929874, 0.2775369445832697, 0.04556213682627387, 0.8797217626176215, 1487, 'add']\n",
      "Residuals: 0      -0.000500\n",
      "1       0.000388\n",
      "2       0.000740\n",
      "3      -0.000342\n",
      "4       0.000542\n",
      "          ...   \n",
      "3355   -0.002998\n",
      "3356   -0.002447\n",
      "3357   -0.002860\n",
      "3358    0.000367\n",
      "3359   -0.001715\n",
      "Length: 3360, dtype: float64\n",
      "0.005376707768596175\n",
      "Percentage RMSE: 3.326039632393332%\n"
     ]
    },
    {
     "name": "stderr",
     "output_type": "stream",
     "text": [
      "the 'smoothing_slope'' keyword is deprecated, use 'smoothing_trend' instead\n",
      "the 'damping_slope'' keyword is deprecated, use 'damping_trend' instead\n",
      "Optimization failed to converge. Check mle_retvals.\n"
     ]
    },
    {
     "name": "stdout",
     "output_type": "stream",
     "text": [
      "Current parameters: [0.9, 0.01, 0.01, 0.9118125056149037, 1530, 'add']\n",
      "Residuals: 0      -0.000100\n",
      "1       0.001051\n",
      "2       0.000374\n",
      "3      -0.000305\n",
      "4       0.000419\n",
      "          ...   \n",
      "3355   -0.000617\n",
      "3356    0.000465\n",
      "3357   -0.000057\n",
      "3358    0.003177\n",
      "3359   -0.001764\n",
      "Length: 3360, dtype: float64\n",
      "0.0038332597382226843\n",
      "Percentage RMSE: 2.3712603249618627%\n"
     ]
    },
    {
     "name": "stderr",
     "output_type": "stream",
     "text": [
      "the 'smoothing_slope'' keyword is deprecated, use 'smoothing_trend' instead\n",
      "the 'damping_slope'' keyword is deprecated, use 'damping_trend' instead\n"
     ]
    },
    {
     "name": "stdout",
     "output_type": "stream",
     "text": [
      "Current parameters: [0.5720260973696667, 0.38948383402674175, 0.06424775759138167, 0.8716554276758155, 1521, 'add']\n",
      "Residuals: 0      -0.000593\n",
      "1       0.001201\n",
      "2      -0.000367\n",
      "3      -0.000808\n",
      "4      -0.000100\n",
      "          ...   \n",
      "3355   -0.001808\n",
      "3356   -0.000316\n",
      "3357   -0.000604\n",
      "3358    0.003012\n",
      "3359   -0.001792\n",
      "Length: 3360, dtype: float64\n",
      "0.004324742801407769\n",
      "Percentage RMSE: 2.675292498023497%\n"
     ]
    },
    {
     "name": "stderr",
     "output_type": "stream",
     "text": [
      "the 'smoothing_slope'' keyword is deprecated, use 'smoothing_trend' instead\n",
      "the 'damping_slope'' keyword is deprecated, use 'damping_trend' instead\n"
     ]
    },
    {
     "name": "stdout",
     "output_type": "stream",
     "text": [
      "Current parameters: [0.2130260907401882, 0.18134649118625248, 0.2869727192900657, 0.9784110729124663, 1540, 'add']\n",
      "Residuals: 0      -0.000503\n",
      "1       0.000321\n",
      "2       0.000337\n",
      "3      -0.000031\n",
      "4       0.000711\n",
      "          ...   \n",
      "3355   -0.000780\n",
      "3356   -0.000865\n",
      "3357   -0.001094\n",
      "3358    0.002637\n",
      "3359   -0.001999\n",
      "Length: 3360, dtype: float64\n",
      "0.0068049647858229225\n",
      "Percentage RMSE: 4.209561603270384%\n"
     ]
    },
    {
     "name": "stderr",
     "output_type": "stream",
     "text": [
      "the 'smoothing_slope'' keyword is deprecated, use 'smoothing_trend' instead\n",
      "the 'damping_slope'' keyword is deprecated, use 'damping_trend' instead\n"
     ]
    },
    {
     "name": "stdout",
     "output_type": "stream",
     "text": [
      "Current parameters: [0.46675413384784814, 0.3120269125674274, 0.17543840127681817, 0.909660761148016, 1507, 'add']\n",
      "Residuals: 0      -0.000324\n",
      "1       0.000566\n",
      "2       0.000029\n",
      "3      -0.000485\n",
      "4       0.000232\n",
      "          ...   \n",
      "3355   -0.000276\n",
      "3356    0.001248\n",
      "3357   -0.000316\n",
      "3358    0.002965\n",
      "3359   -0.001774\n",
      "Length: 3360, dtype: float64\n",
      "0.004816132097258436\n",
      "Percentage RMSE: 2.97926666646894%\n"
     ]
    },
    {
     "name": "stderr",
     "output_type": "stream",
     "text": [
      "the 'smoothing_slope'' keyword is deprecated, use 'smoothing_trend' instead\n",
      "the 'damping_slope'' keyword is deprecated, use 'damping_trend' instead\n"
     ]
    },
    {
     "name": "stdout",
     "output_type": "stream",
     "text": [
      "Current parameters: [0.519607258474048, 0.22753931487347212, 0.2064269475021907, 0.9953069603298613, 1508, 'add']\n",
      "Residuals: 0      -0.000104\n",
      "1       0.000570\n",
      "2      -0.000022\n",
      "3      -0.000855\n",
      "4       0.000893\n",
      "          ...   \n",
      "3355   -0.000301\n",
      "3356    0.000684\n",
      "3357    0.001506\n",
      "3358    0.004325\n",
      "3359   -0.002295\n",
      "Length: 3360, dtype: float64\n",
      "0.004810354397955805\n",
      "Percentage RMSE: 2.9756925728615387%\n"
     ]
    },
    {
     "name": "stderr",
     "output_type": "stream",
     "text": [
      "the 'smoothing_slope'' keyword is deprecated, use 'smoothing_trend' instead\n",
      "the 'damping_slope'' keyword is deprecated, use 'damping_trend' instead\n",
      "Optimization failed to converge. Check mle_retvals.\n"
     ]
    },
    {
     "name": "stdout",
     "output_type": "stream",
     "text": [
      "Current parameters: [0.5198890297284992, 0.2336047310723227, 0.015953020353342822, 0.84500961118416, 1534, 'add']\n",
      "Residuals: 0      -0.000216\n",
      "1       0.000517\n",
      "2       0.000119\n",
      "3      -0.000649\n",
      "4       0.000459\n",
      "          ...   \n",
      "3355   -0.001147\n",
      "3356   -0.000195\n",
      "3357   -0.000372\n",
      "3358    0.002662\n",
      "3359   -0.001260\n",
      "Length: 3360, dtype: float64\n",
      "0.004282741768165511\n",
      "Percentage RMSE: 2.649310594751545%\n"
     ]
    },
    {
     "name": "stderr",
     "output_type": "stream",
     "text": [
      "the 'smoothing_slope'' keyword is deprecated, use 'smoothing_trend' instead\n",
      "the 'damping_slope'' keyword is deprecated, use 'damping_trend' instead\n"
     ]
    },
    {
     "name": "stdout",
     "output_type": "stream",
     "text": [
      "Current parameters: [0.9, 0.01, 0.01, 0.8, 1475, 'add']\n",
      "Residuals: 0      -0.000064\n",
      "1       0.000556\n",
      "2      -0.000016\n",
      "3      -0.000834\n",
      "4       0.000584\n",
      "          ...   \n",
      "3355   -0.001868\n",
      "3356   -0.000902\n",
      "3357   -0.000786\n",
      "3358    0.002762\n",
      "3359   -0.001701\n",
      "Length: 3360, dtype: float64\n",
      "0.003819148173397146\n",
      "Percentage RMSE: 2.3625308894215933%\n"
     ]
    },
    {
     "name": "stderr",
     "output_type": "stream",
     "text": [
      "the 'smoothing_slope'' keyword is deprecated, use 'smoothing_trend' instead\n",
      "the 'damping_slope'' keyword is deprecated, use 'damping_trend' instead\n"
     ]
    },
    {
     "name": "stdout",
     "output_type": "stream",
     "text": [
      "Current parameters: [0.3194517901923431, 0.27111808137844023, 0.19300062841749724, 0.9941733512219023, 1532, 'add']\n",
      "Residuals: 0      -0.000595\n",
      "1       0.000640\n",
      "2       0.000443\n",
      "3      -0.000148\n",
      "4       0.000441\n",
      "          ...   \n",
      "3355   -0.002058\n",
      "3356   -0.000387\n",
      "3357   -0.001141\n",
      "3358    0.002721\n",
      "3359   -0.000716\n",
      "Length: 3360, dtype: float64\n",
      "0.0057416944229572555\n",
      "Percentage RMSE: 3.551820933878601%\n"
     ]
    },
    {
     "name": "stderr",
     "output_type": "stream",
     "text": [
      "the 'smoothing_slope'' keyword is deprecated, use 'smoothing_trend' instead\n",
      "the 'damping_slope'' keyword is deprecated, use 'damping_trend' instead\n"
     ]
    },
    {
     "name": "stdout",
     "output_type": "stream",
     "text": [
      "Current parameters: [0.6688973176579133, 0.17873696879029796, 0.12610156274959214, 0.9800777512642317, 1533, 'add']\n",
      "Residuals: 0      -0.000206\n",
      "1       0.000750\n",
      "2       0.000114\n",
      "3      -0.000886\n",
      "4       0.000205\n",
      "          ...   \n",
      "3355   -0.001768\n",
      "3356    0.000239\n",
      "3357   -0.000460\n",
      "3358    0.003839\n",
      "3359   -0.002697\n",
      "Length: 3360, dtype: float64\n",
      "0.004345545106025796\n",
      "Percentage RMSE: 2.6881608354118134%\n"
     ]
    },
    {
     "name": "stderr",
     "output_type": "stream",
     "text": [
      "the 'smoothing_slope'' keyword is deprecated, use 'smoothing_trend' instead\n",
      "the 'damping_slope'' keyword is deprecated, use 'damping_trend' instead\n",
      "Optimization failed to converge. Check mle_retvals.\n"
     ]
    },
    {
     "name": "stdout",
     "output_type": "stream",
     "text": [
      "Current parameters: [0.9, 0.01, 0.01, 0.8, 1550, 'add']\n",
      "Residuals: 0      -0.000102\n",
      "1       0.000863\n",
      "2       0.000334\n",
      "3      -0.000618\n",
      "4       0.000470\n",
      "          ...   \n",
      "3355    0.000153\n",
      "3356    0.000934\n",
      "3357   -0.000386\n",
      "3358    0.002441\n",
      "3359   -0.002069\n",
      "Length: 3360, dtype: float64\n",
      "0.0037751849021820756\n",
      "Percentage RMSE: 2.3353351427445963%\n"
     ]
    },
    {
     "name": "stderr",
     "output_type": "stream",
     "text": [
      "the 'smoothing_slope'' keyword is deprecated, use 'smoothing_trend' instead\n",
      "the 'damping_slope'' keyword is deprecated, use 'damping_trend' instead\n"
     ]
    },
    {
     "name": "stdout",
     "output_type": "stream",
     "text": [
      "Current parameters: [0.5574176367842657, 0.42902415987543974, 0.020508628319727627, 0.9301613739581445, 1492, 'add']\n",
      "Residuals: 0      -0.000214\n",
      "1       0.000498\n",
      "2       0.000126\n",
      "3      -0.000898\n",
      "4       0.000333\n",
      "          ...   \n",
      "3355    0.000670\n",
      "3356    0.002065\n",
      "3357    0.002119\n",
      "3358    0.003794\n",
      "3359   -0.002773\n",
      "Length: 3360, dtype: float64\n",
      "0.0042901439954593406\n",
      "Percentage RMSE: 2.6538896238539005%\n"
     ]
    },
    {
     "name": "stderr",
     "output_type": "stream",
     "text": [
      "the 'smoothing_slope'' keyword is deprecated, use 'smoothing_trend' instead\n",
      "the 'damping_slope'' keyword is deprecated, use 'damping_trend' instead\n"
     ]
    },
    {
     "name": "stdout",
     "output_type": "stream",
     "text": [
      "Current parameters: [0.12533377507943053, 0.5672615301016873, 0.1958466828877363, 0.9899711508157749, 1521, 'add']\n",
      "Residuals: 0      -0.000744\n",
      "1       0.000994\n",
      "2       0.000448\n",
      "3       0.000069\n",
      "4       0.000454\n",
      "          ...   \n",
      "3355   -0.003722\n",
      "3356   -0.003712\n",
      "3357   -0.004435\n",
      "3358   -0.000666\n",
      "3359   -0.003674\n",
      "Length: 3360, dtype: float64\n",
      "0.008775628659653157\n",
      "Percentage RMSE: 5.428617283545244%\n"
     ]
    },
    {
     "name": "stderr",
     "output_type": "stream",
     "text": [
      "the 'smoothing_slope'' keyword is deprecated, use 'smoothing_trend' instead\n",
      "the 'damping_slope'' keyword is deprecated, use 'damping_trend' instead\n",
      "Optimization failed to converge. Check mle_retvals.\n"
     ]
    },
    {
     "name": "stdout",
     "output_type": "stream",
     "text": [
      "Current parameters: [0.6944561351893161, 0.01, 0.01, 0.8, 1550, 'add']\n",
      "Residuals: 0      -0.000268\n",
      "1       0.000767\n",
      "2       0.000522\n",
      "3      -0.000489\n",
      "4       0.000416\n",
      "          ...   \n",
      "3355    0.000345\n",
      "3356    0.000919\n",
      "3357   -0.000191\n",
      "3358    0.002343\n",
      "3359   -0.001645\n",
      "Length: 3360, dtype: float64\n",
      "0.003978608378692072\n",
      "Percentage RMSE: 2.4611732158091733%\n"
     ]
    },
    {
     "name": "stderr",
     "output_type": "stream",
     "text": [
      "the 'smoothing_slope'' keyword is deprecated, use 'smoothing_trend' instead\n",
      "the 'damping_slope'' keyword is deprecated, use 'damping_trend' instead\n"
     ]
    },
    {
     "name": "stdout",
     "output_type": "stream",
     "text": [
      "Current parameters: [0.10643465189535482, 0.4569909272295765, 0.035729950648129255, 0.8052136043773287, 1509, 'add']\n",
      "Residuals: 0      -0.001014\n",
      "1      -0.000121\n",
      "2       0.000184\n",
      "3       0.000425\n",
      "4       0.000800\n",
      "          ...   \n",
      "3355    0.000683\n",
      "3356    0.001554\n",
      "3357    0.001642\n",
      "3358    0.005264\n",
      "3359    0.003109\n",
      "Length: 3360, dtype: float64\n",
      "0.006412411702358529\n",
      "Percentage RMSE: 3.9667276666657774%\n"
     ]
    },
    {
     "name": "stderr",
     "output_type": "stream",
     "text": [
      "the 'smoothing_slope'' keyword is deprecated, use 'smoothing_trend' instead\n",
      "the 'damping_slope'' keyword is deprecated, use 'damping_trend' instead\n"
     ]
    },
    {
     "name": "stdout",
     "output_type": "stream",
     "text": [
      "Current parameters: [0.810437498485176, 0.4698115362710223, 0.2769844226896428, 0.9993031748692764, 1529, 'add']\n",
      "Residuals: 0       0.000088\n",
      "1       0.000389\n",
      "2      -0.000558\n",
      "3      -0.000532\n",
      "4       0.000375\n",
      "          ...   \n",
      "3355   -0.001069\n",
      "3356    0.001218\n",
      "3357   -0.000283\n",
      "3358    0.004024\n",
      "3359   -0.003994\n",
      "Length: 3360, dtype: float64\n",
      "0.004700707290225387\n",
      "Percentage RMSE: 2.9078647046596022%\n"
     ]
    },
    {
     "name": "stderr",
     "output_type": "stream",
     "text": [
      "the 'smoothing_slope'' keyword is deprecated, use 'smoothing_trend' instead\n",
      "the 'damping_slope'' keyword is deprecated, use 'damping_trend' instead\n"
     ]
    },
    {
     "name": "stdout",
     "output_type": "stream",
     "text": [
      "Current parameters: [0.41582329156475284, 0.03545557419718517, 0.29547527564179044, 0.8022807751856647, 1506, 'add']\n",
      "Residuals: 0      -0.000247\n",
      "1       0.000616\n",
      "2       0.000477\n",
      "3      -0.000128\n",
      "4       0.000278\n",
      "          ...   \n",
      "3355    0.000279\n",
      "3356    0.001225\n",
      "3357    0.000036\n",
      "3358    0.003969\n",
      "3359   -0.000621\n",
      "Length: 3360, dtype: float64\n",
      "0.005229263657675841\n",
      "Percentage RMSE: 3.2348304803266448%\n"
     ]
    },
    {
     "name": "stderr",
     "output_type": "stream",
     "text": [
      "the 'smoothing_slope'' keyword is deprecated, use 'smoothing_trend' instead\n",
      "the 'damping_slope'' keyword is deprecated, use 'damping_trend' instead\n"
     ]
    },
    {
     "name": "stdout",
     "output_type": "stream",
     "text": [
      "Current parameters: [0.8999900522402435, 0.06895672997880224, 0.2926497366437015, 0.9887321065566306, 1484, 'add']\n",
      "Residuals: 0       0.000155\n",
      "1       0.000576\n",
      "2       0.000062\n",
      "3      -0.000519\n",
      "4       0.000546\n",
      "          ...   \n",
      "3355   -0.001673\n",
      "3356    0.001908\n",
      "3357   -0.001328\n",
      "3358    0.004406\n",
      "3359   -0.002637\n",
      "Length: 3360, dtype: float64\n",
      "0.004377272329926055\n",
      "Percentage RMSE: 2.707787344543373%\n"
     ]
    },
    {
     "name": "stderr",
     "output_type": "stream",
     "text": [
      "the 'smoothing_slope'' keyword is deprecated, use 'smoothing_trend' instead\n",
      "the 'damping_slope'' keyword is deprecated, use 'damping_trend' instead\n"
     ]
    },
    {
     "name": "stdout",
     "output_type": "stream",
     "text": [
      "Current parameters: [0.5559370153579194, 0.6909887534917989, 0.11272806984259214, 0.8413544550811224, 1525, 'add']\n",
      "Residuals: 0      -0.000200\n",
      "1       0.000454\n",
      "2      -0.000333\n",
      "3      -0.000873\n",
      "4       0.000285\n",
      "          ...   \n",
      "3355   -0.000906\n",
      "3356    0.000713\n",
      "3357    0.000214\n",
      "3358    0.003578\n",
      "3359   -0.002860\n",
      "Length: 3360, dtype: float64\n",
      "0.004370897590937734\n",
      "Percentage RMSE: 2.7038439212751126%\n"
     ]
    },
    {
     "name": "stderr",
     "output_type": "stream",
     "text": [
      "the 'smoothing_slope'' keyword is deprecated, use 'smoothing_trend' instead\n",
      "the 'damping_slope'' keyword is deprecated, use 'damping_trend' instead\n"
     ]
    },
    {
     "name": "stdout",
     "output_type": "stream",
     "text": [
      "Current parameters: [0.6853859119547346, 0.08629078437716997, 0.1578215237189064, 0.9760063138699497, 1519, 'add']\n",
      "Residuals: 0      -0.000149\n",
      "1       0.000728\n",
      "2      -0.000074\n",
      "3       0.000198\n",
      "4       0.000294\n",
      "          ...   \n",
      "3355   -0.001339\n",
      "3356   -0.000158\n",
      "3357   -0.001053\n",
      "3358    0.002976\n",
      "3359   -0.003438\n",
      "Length: 3360, dtype: float64\n",
      "0.0043044674580614084\n",
      "Percentage RMSE: 2.6627501396821613%\n"
     ]
    },
    {
     "name": "stderr",
     "output_type": "stream",
     "text": [
      "the 'smoothing_slope'' keyword is deprecated, use 'smoothing_trend' instead\n",
      "the 'damping_slope'' keyword is deprecated, use 'damping_trend' instead\n"
     ]
    },
    {
     "name": "stdout",
     "output_type": "stream",
     "text": [
      "Current parameters: [0.45736717484101386, 0.6920091993687609, 0.18958116830728255, 0.8050501211688631, 1520, 'add']\n",
      "Residuals: 0      -0.000426\n",
      "1       0.000306\n",
      "2       0.000318\n",
      "3      -0.001234\n",
      "4      -0.000380\n",
      "          ...   \n",
      "3355   -0.001567\n",
      "3356   -0.000075\n",
      "3357    0.000245\n",
      "3358    0.003127\n",
      "3359   -0.002190\n",
      "Length: 3360, dtype: float64\n",
      "0.0046780022108433295\n",
      "Percentage RMSE: 2.8938193078979553%\n"
     ]
    },
    {
     "name": "stderr",
     "output_type": "stream",
     "text": [
      "the 'smoothing_slope'' keyword is deprecated, use 'smoothing_trend' instead\n",
      "the 'damping_slope'' keyword is deprecated, use 'damping_trend' instead\n"
     ]
    },
    {
     "name": "stdout",
     "output_type": "stream",
     "text": [
      "Current parameters: [0.8512229890796918, 0.6835871072657094, 0.01, 0.8, 1550, 'add']\n",
      "Residuals: 0      -0.000106\n",
      "1       0.000223\n",
      "2      -0.000315\n",
      "3      -0.001075\n",
      "4       0.000562\n",
      "          ...   \n",
      "3355   -0.000354\n",
      "3356    0.000583\n",
      "3357   -0.000855\n",
      "3358    0.002365\n",
      "3359   -0.003031\n",
      "Length: 3360, dtype: float64\n",
      "0.004034580358678093\n",
      "Percentage RMSE: 2.495797568061376%\n"
     ]
    },
    {
     "name": "stderr",
     "output_type": "stream",
     "text": [
      "the 'smoothing_slope'' keyword is deprecated, use 'smoothing_trend' instead\n",
      "the 'damping_slope'' keyword is deprecated, use 'damping_trend' instead\n"
     ]
    },
    {
     "name": "stdout",
     "output_type": "stream",
     "text": [
      "Current parameters: [0.6342452394725706, 0.564487684827043, 0.0806801015529842, 0.8854506236809727, 1530, 'add']\n",
      "Residuals: 0      -0.000244\n",
      "1       0.000498\n",
      "2      -0.000143\n",
      "3      -0.000871\n",
      "4      -0.000036\n",
      "          ...   \n",
      "3355   -0.000407\n",
      "3356    0.000797\n",
      "3357    0.000230\n",
      "3358    0.003553\n",
      "3359   -0.002152\n",
      "Length: 3360, dtype: float64\n",
      "0.004320977210583923\n",
      "Percentage RMSE: 2.6729630977922554%\n"
     ]
    },
    {
     "name": "stderr",
     "output_type": "stream",
     "text": [
      "the 'smoothing_slope'' keyword is deprecated, use 'smoothing_trend' instead\n",
      "the 'damping_slope'' keyword is deprecated, use 'damping_trend' instead\n",
      "Optimization failed to converge. Check mle_retvals.\n"
     ]
    },
    {
     "name": "stdout",
     "output_type": "stream",
     "text": [
      "Current parameters: [0.7496789136086577, 0.01, 0.01, 0.8893947383648985, 1550, 'add']\n",
      "Residuals: 0      -0.000165\n",
      "1       0.000647\n",
      "2       0.000431\n",
      "3      -0.000463\n",
      "4       0.000533\n",
      "          ...   \n",
      "3355    0.000272\n",
      "3356    0.000918\n",
      "3357   -0.000213\n",
      "3358    0.002416\n",
      "3359   -0.001811\n",
      "Length: 3360, dtype: float64\n",
      "0.0039052306064608433\n",
      "Percentage RMSE: 2.415781613906747%\n"
     ]
    },
    {
     "name": "stderr",
     "output_type": "stream",
     "text": [
      "the 'smoothing_slope'' keyword is deprecated, use 'smoothing_trend' instead\n",
      "the 'damping_slope'' keyword is deprecated, use 'damping_trend' instead\n",
      "Optimization failed to converge. Check mle_retvals.\n"
     ]
    },
    {
     "name": "stdout",
     "output_type": "stream",
     "text": [
      "Current parameters: [0.8628278022699121, 0.01, 0.01, 0.8, 1550, 'add']\n",
      "Residuals: 0      -0.000044\n",
      "1       0.000745\n",
      "2       0.000329\n",
      "3      -0.000659\n",
      "4       0.000472\n",
      "          ...   \n",
      "3355    0.000231\n",
      "3356    0.000906\n",
      "3357   -0.000278\n",
      "3358    0.002414\n",
      "3359   -0.001970\n",
      "Length: 3360, dtype: float64\n",
      "0.00379837077745767\n",
      "Percentage RMSE: 2.3496779605798475%\n"
     ]
    },
    {
     "name": "stderr",
     "output_type": "stream",
     "text": [
      "the 'smoothing_slope'' keyword is deprecated, use 'smoothing_trend' instead\n",
      "the 'damping_slope'' keyword is deprecated, use 'damping_trend' instead\n"
     ]
    },
    {
     "name": "stdout",
     "output_type": "stream",
     "text": [
      "Current parameters: [0.7984727402369145, 0.41013340737444925, 0.04946578304888291, 0.9221699298348996, 1506, 'add']\n",
      "Residuals: 0       0.000017\n",
      "1       0.000291\n",
      "2      -0.000232\n",
      "3      -0.000766\n",
      "4       0.000426\n",
      "          ...   \n",
      "3355   -0.000852\n",
      "3356    0.000680\n",
      "3357   -0.000645\n",
      "3358    0.002979\n",
      "3359   -0.002644\n",
      "Length: 3360, dtype: float64\n",
      "0.004223894280397257\n",
      "Percentage RMSE: 2.6129074489962205%\n"
     ]
    },
    {
     "name": "stderr",
     "output_type": "stream",
     "text": [
      "the 'smoothing_slope'' keyword is deprecated, use 'smoothing_trend' instead\n",
      "the 'damping_slope'' keyword is deprecated, use 'damping_trend' instead\n"
     ]
    },
    {
     "name": "stdout",
     "output_type": "stream",
     "text": [
      "Current parameters: [0.1470813497411701, 0.6081808450563633, 0.10760280963602672, 0.9684111385994403, 1526, 'add']\n",
      "Residuals: 0      -0.001290\n",
      "1       0.000368\n",
      "2       0.000414\n",
      "3       0.000145\n",
      "4       0.000859\n",
      "          ...   \n",
      "3355   -0.002018\n",
      "3356   -0.001510\n",
      "3357   -0.001382\n",
      "3358    0.002453\n",
      "3359   -0.000341\n",
      "Length: 3360, dtype: float64\n",
      "0.0071517667186632465\n",
      "Percentage RMSE: 4.424093808266657%\n"
     ]
    },
    {
     "name": "stderr",
     "output_type": "stream",
     "text": [
      "the 'smoothing_slope'' keyword is deprecated, use 'smoothing_trend' instead\n",
      "the 'damping_slope'' keyword is deprecated, use 'damping_trend' instead\n",
      "Optimization failed to converge. Check mle_retvals.\n"
     ]
    },
    {
     "name": "stdout",
     "output_type": "stream",
     "text": [
      "Current parameters: [0.7485917826422641, 0.01, 0.1555894787649674, 0.8, 1550, 'add']\n",
      "Residuals: 0      -0.000052\n",
      "1       0.000758\n",
      "2       0.000394\n",
      "3      -0.000566\n",
      "4       0.000264\n",
      "          ...   \n",
      "3355    0.000212\n",
      "3356    0.001011\n",
      "3357   -0.000411\n",
      "3358    0.002770\n",
      "3359   -0.002074\n",
      "Length: 3360, dtype: float64\n",
      "0.004123926955667839\n",
      "Percentage RMSE: 2.551067509333442%\n"
     ]
    },
    {
     "name": "stderr",
     "output_type": "stream",
     "text": [
      "the 'smoothing_slope'' keyword is deprecated, use 'smoothing_trend' instead\n",
      "the 'damping_slope'' keyword is deprecated, use 'damping_trend' instead\n",
      "Optimization failed to converge. Check mle_retvals.\n"
     ]
    },
    {
     "name": "stdout",
     "output_type": "stream",
     "text": [
      "Current parameters: [0.9, 0.01, 0.01, 0.8342634595444997, 1550, 'add']\n",
      "Residuals: 0      -0.000117\n",
      "1       0.000837\n",
      "2       0.000347\n",
      "3      -0.000575\n",
      "4       0.000533\n",
      "          ...   \n",
      "3355    0.000157\n",
      "3356    0.000937\n",
      "3357   -0.000384\n",
      "3358    0.002443\n",
      "3359   -0.002068\n",
      "Length: 3360, dtype: float64\n",
      "0.0037753758937147264\n",
      "Percentage RMSE: 2.335453290398214%\n"
     ]
    },
    {
     "name": "stderr",
     "output_type": "stream",
     "text": [
      "the 'smoothing_slope'' keyword is deprecated, use 'smoothing_trend' instead\n",
      "the 'damping_slope'' keyword is deprecated, use 'damping_trend' instead\n"
     ]
    },
    {
     "name": "stdout",
     "output_type": "stream",
     "text": [
      "Current parameters: [0.3891021894639126, 0.20051967994483427, 0.01721016516679036, 0.9877316325561902, 1520, 'add']\n",
      "Residuals: 0      -0.000708\n",
      "1       0.000470\n",
      "2       0.000981\n",
      "3      -0.000378\n",
      "4       0.000297\n",
      "          ...   \n",
      "3355   -0.002014\n",
      "3356   -0.001190\n",
      "3357   -0.000946\n",
      "3358    0.001610\n",
      "3359   -0.001784\n",
      "Length: 3360, dtype: float64\n",
      "0.005118083379312828\n",
      "Percentage RMSE: 3.1660541904312294%\n"
     ]
    },
    {
     "name": "stderr",
     "output_type": "stream",
     "text": [
      "the 'smoothing_slope'' keyword is deprecated, use 'smoothing_trend' instead\n",
      "the 'damping_slope'' keyword is deprecated, use 'damping_trend' instead\n"
     ]
    },
    {
     "name": "stdout",
     "output_type": "stream",
     "text": [
      "Current parameters: [0.22317050842150724, 0.1655723782444418, 0.12739007788764756, 0.8636989522989917, 1531, 'add']\n",
      "Residuals: 0      -0.001093\n",
      "1       0.000476\n",
      "2       0.000611\n",
      "3       0.000232\n",
      "4       0.000751\n",
      "          ...   \n",
      "3355   -0.002071\n",
      "3356   -0.001038\n",
      "3357   -0.000955\n",
      "3358    0.002740\n",
      "3359   -0.000309\n",
      "Length: 3360, dtype: float64\n",
      "0.005980646462034177\n",
      "Percentage RMSE: 3.6996370299761114%\n"
     ]
    },
    {
     "name": "stderr",
     "output_type": "stream",
     "text": [
      "the 'smoothing_slope'' keyword is deprecated, use 'smoothing_trend' instead\n",
      "the 'damping_slope'' keyword is deprecated, use 'damping_trend' instead\n"
     ]
    },
    {
     "name": "stdout",
     "output_type": "stream",
     "text": [
      "Current parameters: [0.3621464923287664, 0.575546878526584, 0.26660598201899954, 0.8881482196722231, 1506, 'add']\n",
      "Residuals: 0      -0.000339\n",
      "1       0.000292\n",
      "2       0.000096\n",
      "3      -0.000514\n",
      "4       0.000075\n",
      "          ...   \n",
      "3355   -0.001052\n",
      "3356    0.000066\n",
      "3357   -0.000895\n",
      "3358    0.003221\n",
      "3359   -0.001502\n",
      "Length: 3360, dtype: float64\n",
      "0.005343878830537173\n",
      "Percentage RMSE: 3.3057316012015727%\n"
     ]
    },
    {
     "name": "stderr",
     "output_type": "stream",
     "text": [
      "the 'smoothing_slope'' keyword is deprecated, use 'smoothing_trend' instead\n",
      "the 'damping_slope'' keyword is deprecated, use 'damping_trend' instead\n"
     ]
    },
    {
     "name": "stdout",
     "output_type": "stream",
     "text": [
      "Current parameters: [0.38158427286202845, 0.569212471485721, 0.01942658243689431, 0.868641789548888, 1525, 'add']\n",
      "Residuals: 0      -0.000589\n",
      "1       0.000503\n",
      "2       0.000081\n",
      "3      -0.000653\n",
      "4       0.000212\n",
      "          ...   \n",
      "3355   -0.000872\n",
      "3356    0.000401\n",
      "3357    0.000341\n",
      "3358    0.003412\n",
      "3359   -0.001284\n",
      "Length: 3360, dtype: float64\n",
      "0.004598625336008457\n",
      "Percentage RMSE: 2.844716651968183%\n"
     ]
    },
    {
     "name": "stderr",
     "output_type": "stream",
     "text": [
      "the 'smoothing_slope'' keyword is deprecated, use 'smoothing_trend' instead\n",
      "the 'damping_slope'' keyword is deprecated, use 'damping_trend' instead\n"
     ]
    },
    {
     "name": "stdout",
     "output_type": "stream",
     "text": [
      "Current parameters: [0.5716875826027398, 0.49148295978416146, 0.05555919407123678, 0.932854666929634, 1479, 'add']\n",
      "Residuals: 0      -0.000283\n",
      "1       0.000494\n",
      "2       0.000054\n",
      "3      -0.000556\n",
      "4       0.000008\n",
      "          ...   \n",
      "3355   -0.000626\n",
      "3356    0.000177\n",
      "3357   -0.001090\n",
      "3358    0.002889\n",
      "3359   -0.003080\n",
      "Length: 3360, dtype: float64\n",
      "0.004430466672017805\n",
      "Percentage RMSE: 2.7406934457545318%\n"
     ]
    },
    {
     "name": "stderr",
     "output_type": "stream",
     "text": [
      "the 'smoothing_slope'' keyword is deprecated, use 'smoothing_trend' instead\n",
      "the 'damping_slope'' keyword is deprecated, use 'damping_trend' instead\n"
     ]
    },
    {
     "name": "stdout",
     "output_type": "stream",
     "text": [
      "Current parameters: [0.3275440314631858, 0.5805927795708541, 0.2676726454390965, 0.8895172786364343, 1524, 'add']\n",
      "Residuals: 0      -0.000270\n",
      "1       0.000195\n",
      "2       0.000017\n",
      "3      -0.000190\n",
      "4      -0.000055\n",
      "          ...   \n",
      "3355   -0.001088\n",
      "3356    0.000400\n",
      "3357    0.000458\n",
      "3358    0.002934\n",
      "3359   -0.001561\n",
      "Length: 3360, dtype: float64\n",
      "0.005296408037875738\n",
      "Percentage RMSE: 3.2763660964041486%\n",
      "Best parameters: [0.9, 0.07947062325171465, 0.01, 0.8, 1550, 'add']\n",
      "Lowest RMSE: 0.003771785935752633\n"
     ]
    }
   ],
   "source": [
    "from skopt import gp_minimize\n",
    "from skopt.space import Real, Integer, Categorical\n",
    "from statsmodels.tsa.holtwinters import ExponentialSmoothing\n",
    "import pandas as pd\n",
    "import numpy as np\n",
    "\n",
    "# Define your time series data\n",
    "train_data = train+1e-6  # Ensure 'train' is a pandas Series or DataFrame column, times by 1e6 to ensure no negative values\n",
    "\n",
    "\n",
    "\n",
    "\n",
    "# Define the objective function that Bayesian optimization will minimize\n",
    "def objective(params):\n",
    "    smoothing_level, smoothing_slope, smoothing_seasonal, damping_slope, seasonal_periods, seasonal = params\n",
    "    \n",
    "    try:\n",
    "        model = ExponentialSmoothing(\n",
    "            train_data,\n",
    "            seasonal=seasonal,\n",
    "            trend='add',\n",
    "            seasonal_periods=int(seasonal_periods),\n",
    "            damped_trend=True,\n",
    "            initialization_method=\"estimated\" \n",
    "        )\n",
    "        \n",
    "        fitted_model = model.fit(\n",
    "            smoothing_level=smoothing_level,\n",
    "            smoothing_slope=smoothing_slope,\n",
    "            smoothing_seasonal=smoothing_seasonal,\n",
    "            damping_slope=damping_slope\n",
    "        )\n",
    "        \n",
    "        print(\"Current parameters:\", params)\n",
    "        \n",
    "        # Check if fittedvalues is a DataFrame (multiple components)\n",
    "        if isinstance(fitted_model.fittedvalues, pd.DataFrame):\n",
    "            # Sum the components to get the total fitted values\n",
    "            fitted_values = fitted_model.fittedvalues.sum(axis=1)\n",
    "        else:\n",
    "            # If it's already a Series, use it directly\n",
    "            fitted_values = fitted_model.fittedvalues\n",
    "        \n",
    "        # Align indexes if necessary\n",
    "        fitted_values = fitted_values.reset_index(drop=True)\n",
    "        train_values = train_data.reset_index(drop=True)\n",
    "        \n",
    "        # Ensure both are pandas Series for subtraction\n",
    "        if isinstance(fitted_values, pd.DataFrame):\n",
    "            fitted_values = fitted_values.iloc[:, 0]\n",
    "        if isinstance(train_values, pd.DataFrame):\n",
    "            train_values = train_values.iloc[:, 0]\n",
    "        \n",
    "        residuals = fitted_values - train_values\n",
    "    \n",
    "        print(\"Residuals:\", residuals)\n",
    "        \n",
    "        # Calculate RMSE\n",
    "        mse = np.mean(residuals ** 2)  # Mean Squared Error\n",
    "        rmse = np.sqrt(mse)  # Root Mean Squared Error\n",
    "        print(rmse)\n",
    "        \n",
    "        percentage_rmse = (rmse / train_values.mean()) * 100\n",
    "        print(f\"Percentage RMSE: {percentage_rmse}%\")\n",
    "\n",
    "        return rmse\n",
    "    except Exception as e:\n",
    "        print(\"Error:\", e)\n",
    "        # Return a large number to indicate failure\n",
    "        return float(\"inf\")\n",
    "    \n",
    "    \n",
    "    \n",
    "# Define the search space for hyperparameters\n",
    "search_space = [\n",
    "    Real(0.1, 0.9, name='smoothing_level'),\n",
    "    Real(0.01, 0.7, name='smoothing_slope'),\n",
    "    Real(0.01, 0.3, name='smoothing_seasonal'),\n",
    "    Real(0.8, 1.0, name='damping_slope'),\n",
    "    Integer(1475, 1550, name='seasonal_periods'),  # Ensure this range fits your data\n",
    "    Categorical(['add'], name='seasonal')\n",
    "]\n",
    "\n",
    "# Perform Bayesian optimization\n",
    "result = gp_minimize(objective, search_space, n_calls=50, random_state=0)\n",
    "\n",
    "# Print the best parameters and lowest RMSE\n",
    "print(f\"Best parameters: {result.x}\")\n",
    "print(f\"Lowest RMSE: {result.fun}\")\n"
   ]
  },
  {
   "cell_type": "code",
   "execution_count": null,
   "id": "8a4637a0",
   "metadata": {},
   "outputs": [],
   "source": []
  },
  {
   "cell_type": "code",
   "execution_count": null,
   "id": "94f73e08",
   "metadata": {},
   "outputs": [],
   "source": []
  },
  {
   "cell_type": "code",
   "execution_count": 71,
   "id": "7b58cc31",
   "metadata": {
    "scrolled": false
   },
   "outputs": [
    {
     "name": "stderr",
     "output_type": "stream",
     "text": [
      "the 'smoothing_slope'' keyword is deprecated, use 'smoothing_trend' instead\n",
      "the 'damping_slope'' keyword is deprecated, use 'damping_trend' instead\n"
     ]
    },
    {
     "data": {
      "image/png": "[encoded data removed]",
      "text/plain": [
       "<Figure size 1008x504 with 1 Axes>"
      ]
     },
     "metadata": {
      "needs_background": "light"
     },
     "output_type": "display_data"
    },
    {
     "name": "stdout",
     "output_type": "stream",
     "text": [
      "mean_absolute_error: 0.013635959684125653\n",
      "Percentage RMSE: 10.66773508465824%\n"
     ]
    }
   ],
   "source": [
    "\n",
    "smoothing_level = 0.6765061237807335 \n",
    "smoothing_slope = 0.41159365653182395\n",
    "smoothing_seasonal = 0.16583823654021312\n",
    "damping_slope = 0.9517231248644715\n",
    "seasonal_periods = 1483\n",
    "seasonal = 'add'\n",
    "\n",
    "model = ExponentialSmoothing(\n",
    "    train_data,\n",
    "    seasonal=seasonal,\n",
    "    trend='add',\n",
    "    seasonal_periods=int(seasonal_periods),\n",
    "    damped_trend=True,\n",
    "    initialization_method=\"estimated\" \n",
    ")\n",
    "\n",
    "fitted_model = model.fit(\n",
    "    smoothing_level=smoothing_level,\n",
    "    smoothing_slope=smoothing_slope,\n",
    "    smoothing_seasonal=smoothing_seasonal,\n",
    "    damping_slope=damping_slope\n",
    ")\n",
    "\n",
    "\n",
    "y_es_pred = fitted_model.predict(start=test.index[0], end=test.index[-1])\n",
    "\n",
    "\n",
    "y_pred_series = pd.Series(y_es_pred, index=test.index)\n",
    "\n",
    "\n",
    "# Plotting\n",
    "plt.figure(figsize=(14, 7))\n",
    "\n",
    "plt.plot(test.index, test[0], label='Actual', color='blue')\n",
    "plt.plot(test.index, y_pred_series, label='Predicted', color='red', linestyle='--')\n",
    "\n",
    "plt.xlabel('Index')\n",
    "plt.ylabel('Values')\n",
    "plt.title('Actual vs Predicted')\n",
    "plt.legend()\n",
    "plt.grid(True)\n",
    "plt.show()\n",
    "\n",
    "\n",
    "print(f'mean_absolute_error: {mean_absolute_error(test[0], y_pred_series )}')\n",
    "\n",
    "rmse = np.sqrt(mean_squared_error( test[0], y_pred_series))\n",
    "percentage_rmse = (rmse / test[0].mean()) * 100\n",
    "print(f\"Percentage RMSE: {percentage_rmse}%\")\n",
    "\n"
   ]
  },
  {
   "cell_type": "code",
   "execution_count": null,
   "id": "eb287964",
   "metadata": {},
   "outputs": [],
   "source": []
  },
  {
   "cell_type": "code",
   "execution_count": 102,
   "id": "8398db13",
   "metadata": {},
   "outputs": [
    {
     "name": "stderr",
     "output_type": "stream",
     "text": [
      "the 'smoothing_slope'' keyword is deprecated, use 'smoothing_trend' instead\n",
      "the 'damping_slope'' keyword is deprecated, use 'damping_trend' instead\n"
     ]
    },
    {
     "data": {
      "image/png": "[encoded data removed]",
      "text/plain": [
       "<Figure size 1008x504 with 1 Axes>"
      ]
     },
     "metadata": {
      "needs_background": "light"
     },
     "output_type": "display_data"
    },
    {
     "name": "stdout",
     "output_type": "stream",
     "text": [
      "mean_absolute_error: 0.011318171193659219\n",
      "Percentage RMSE: 9.425383835884817%\n"
     ]
    }
   ],
   "source": [
    "# Best parameters: [0.9, 0.07947062325171465, 0.01, 0.8, 1550, 'add']\n",
    "# Lowest RMSE: 0.003771785935752633\n",
    "\n",
    "# [0.8945532850603143, 0.2821229395903713, 0.28334583314668865, 0.8095094141515451, 1489, 'add']\n",
    "\n",
    "\n",
    "\n",
    "smoothing_level = 0.8945532850603143 \n",
    "smoothing_slope =  0.2821229395903713\n",
    "smoothing_seasonal =  0.28334583314668865\n",
    "damping_slope = 0.8095094141515451\n",
    "seasonal_periods = 1489\n",
    "seasonal = 'add'\n",
    "\n",
    "model = ExponentialSmoothing(\n",
    "    train_data,\n",
    "    seasonal=seasonal,\n",
    "    trend='add',\n",
    "    seasonal_periods=int(seasonal_periods),\n",
    "    damped_trend=True,\n",
    "    initialization_method=\"estimated\" \n",
    ")\n",
    "\n",
    "fitted_model = model.fit(\n",
    "    smoothing_level=smoothing_level,\n",
    "    smoothing_slope=smoothing_slope,\n",
    "    smoothing_seasonal=smoothing_seasonal,\n",
    "    damping_slope=damping_slope\n",
    ")\n",
    "\n",
    "\n",
    "y_es_pred = fitted_model.predict(start=test.index[0], end=test.index[-1])\n",
    "\n",
    "\n",
    "y_pred_series = pd.Series(y_es_pred, index=test.index)\n",
    "\n",
    "\n",
    "# Plotting\n",
    "plt.figure(figsize=(14, 7))\n",
    "\n",
    "plt.plot(test.index, test[0], label='Actual', color='blue')\n",
    "plt.plot(test.index, y_pred_series, label='Predicted', color='red', linestyle='--')\n",
    "\n",
    "plt.xlabel('Index')\n",
    "plt.ylabel('Values')\n",
    "plt.title('Actual vs Predicted')\n",
    "plt.legend()\n",
    "plt.grid(True)\n",
    "plt.show()\n",
    "\n",
    "\n",
    "print(f'mean_absolute_error: {mean_absolute_error(test[0], y_pred_series )}')\n",
    "\n",
    "rmse = np.sqrt(mean_squared_error( test[0], y_pred_series))\n",
    "percentage_rmse = (rmse / test[0].mean()) * 100\n",
    "print(f\"Percentage RMSE: {percentage_rmse}%\")\n"
   ]
  },
  {
   "cell_type": "code",
   "execution_count": null,
   "id": "84006f36",
   "metadata": {},
   "outputs": [],
   "source": []
  }
 ],
 "metadata": {
  "kernelspec": {
   "display_name": "Python 3",
   "language": "python",
   "name": "python3"
  },
  "language_info": {
   "codemirror_mode": {
    "name": "ipython",
    "version": 3
   },
   "file_extension": ".py",
   "mimetype": "text/x-python",
   "name": "python",
   "nbconvert_exporter": "python",
   "pygments_lexer": "ipython3",
   "version": "3.8.8"
  }
 },
 "nbformat": 4,
 "nbformat_minor": 5
}
