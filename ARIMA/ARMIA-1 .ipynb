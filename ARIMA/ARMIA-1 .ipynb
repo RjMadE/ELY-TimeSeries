{
 "cells": [
  {
   "cell_type": "code",
   "execution_count": 1,
   "id": "ab3d6e9f",
   "metadata": {},
   "outputs": [],
   "source": [
    "import pandas as pd\n",
    "import numpy as np\n",
    "\n",
    "from statsmodels.tsa.arima.model import ARIMA\n",
    "from sklearn.metrics import mean_squared_error, r2_score\n",
    "from scipy.stats import kstest, shapiro\n",
    "\n",
    "\n",
    "import matplotlib.pyplot as plt\n",
    "\n",
    "\n",
    "\n",
    "import statsmodels.api as sm\n",
    "import statsmodels.formula.api as smf\n",
    "\n",
    "from statsmodels.graphics.tsaplots import plot_acf, plot_pacf\n"
   ]
  },
  {
   "cell_type": "code",
   "execution_count": 2,
   "id": "9cbdfad1",
   "metadata": {},
   "outputs": [],
   "source": [
    "\n",
    "def convert_to_dataframe(x):\n",
    "    return pd.DataFrame(x)\n"
   ]
  },
  {
   "cell_type": "code",
   "execution_count": 8,
   "id": "795ebf14",
   "metadata": {},
   "outputs": [
    {
     "data": {
      "text/html": [
       "<div>\n",
       "<style scoped>\n",
       "    .dataframe tbody tr th:only-of-type {\n",
       "        vertical-align: middle;\n",
       "    }\n",
       "\n",
       "    .dataframe tbody tr th {\n",
       "        vertical-align: top;\n",
       "    }\n",
       "\n",
       "    .dataframe thead th {\n",
       "        text-align: right;\n",
       "    }\n",
       "</style>\n",
       "<table border=\"1\" class=\"dataframe\">\n",
       "  <thead>\n",
       "    <tr style=\"text-align: right;\">\n",
       "      <th></th>\n",
       "      <th>cell_voltage_001</th>\n",
       "      <th>current</th>\n",
       "      <th>current_density</th>\n",
       "      <th>temp_anode_inlet</th>\n",
       "      <th>temp_anode_outlet</th>\n",
       "      <th>temp_cathode_inlet</th>\n",
       "      <th>temp_cathode_outlet</th>\n",
       "      <th>pressure_anode_inlet</th>\n",
       "      <th>pressure_anode_outlet</th>\n",
       "      <th>pressure_cathode_inlet</th>\n",
       "      <th>pressure_cathode_outlet</th>\n",
       "      <th>flow_anode_di_water_supply</th>\n",
       "      <th>signal_in_resistivity_anode</th>\n",
       "      <th>signal_in_resistivity_cathode</th>\n",
       "      <th>signal_in_h2_in_o2_sensor</th>\n",
       "      <th>seconds</th>\n",
       "      <th>minutes</th>\n",
       "    </tr>\n",
       "  </thead>\n",
       "  <tbody>\n",
       "    <tr>\n",
       "      <th>0</th>\n",
       "      <td>-0.095167</td>\n",
       "      <td>-0.01262</td>\n",
       "      <td>-0.000505</td>\n",
       "      <td>22.524658</td>\n",
       "      <td>22.211363</td>\n",
       "      <td>22.943993</td>\n",
       "      <td>22.664978</td>\n",
       "      <td>0.015911</td>\n",
       "      <td>-0.026205</td>\n",
       "      <td>-0.009285</td>\n",
       "      <td>-0.009439</td>\n",
       "      <td>0.149858</td>\n",
       "      <td>0.142337</td>\n",
       "      <td>0.580925</td>\n",
       "      <td>0.278146</td>\n",
       "      <td>0</td>\n",
       "      <td>0</td>\n",
       "    </tr>\n",
       "    <tr>\n",
       "      <th>1</th>\n",
       "      <td>-0.095167</td>\n",
       "      <td>-0.01262</td>\n",
       "      <td>-0.000505</td>\n",
       "      <td>22.524658</td>\n",
       "      <td>22.211363</td>\n",
       "      <td>22.943993</td>\n",
       "      <td>22.664978</td>\n",
       "      <td>0.015911</td>\n",
       "      <td>-0.026205</td>\n",
       "      <td>-0.009285</td>\n",
       "      <td>-0.009439</td>\n",
       "      <td>0.149858</td>\n",
       "      <td>0.142337</td>\n",
       "      <td>0.580925</td>\n",
       "      <td>0.278146</td>\n",
       "      <td>0</td>\n",
       "      <td>0</td>\n",
       "    </tr>\n",
       "    <tr>\n",
       "      <th>2</th>\n",
       "      <td>-0.095167</td>\n",
       "      <td>-0.01262</td>\n",
       "      <td>-0.000505</td>\n",
       "      <td>22.524658</td>\n",
       "      <td>22.211363</td>\n",
       "      <td>22.943993</td>\n",
       "      <td>22.664978</td>\n",
       "      <td>0.015911</td>\n",
       "      <td>-0.026205</td>\n",
       "      <td>-0.009285</td>\n",
       "      <td>-0.009439</td>\n",
       "      <td>0.149858</td>\n",
       "      <td>0.142337</td>\n",
       "      <td>0.580925</td>\n",
       "      <td>0.278146</td>\n",
       "      <td>0</td>\n",
       "      <td>0</td>\n",
       "    </tr>\n",
       "    <tr>\n",
       "      <th>3</th>\n",
       "      <td>-0.095167</td>\n",
       "      <td>-0.01192</td>\n",
       "      <td>-0.000477</td>\n",
       "      <td>23.574999</td>\n",
       "      <td>22.622944</td>\n",
       "      <td>22.930300</td>\n",
       "      <td>22.651320</td>\n",
       "      <td>0.184089</td>\n",
       "      <td>-0.026205</td>\n",
       "      <td>-0.009285</td>\n",
       "      <td>-0.001021</td>\n",
       "      <td>0.270174</td>\n",
       "      <td>0.132591</td>\n",
       "      <td>0.585798</td>\n",
       "      <td>0.276583</td>\n",
       "      <td>30</td>\n",
       "      <td>0</td>\n",
       "    </tr>\n",
       "    <tr>\n",
       "      <th>4</th>\n",
       "      <td>-0.095167</td>\n",
       "      <td>-0.01192</td>\n",
       "      <td>-0.000477</td>\n",
       "      <td>23.574999</td>\n",
       "      <td>22.622944</td>\n",
       "      <td>22.930300</td>\n",
       "      <td>22.651320</td>\n",
       "      <td>0.184089</td>\n",
       "      <td>-0.026205</td>\n",
       "      <td>-0.009285</td>\n",
       "      <td>-0.001021</td>\n",
       "      <td>0.270174</td>\n",
       "      <td>0.132591</td>\n",
       "      <td>0.585798</td>\n",
       "      <td>0.276583</td>\n",
       "      <td>30</td>\n",
       "      <td>0</td>\n",
       "    </tr>\n",
       "    <tr>\n",
       "      <th>...</th>\n",
       "      <td>...</td>\n",
       "      <td>...</td>\n",
       "      <td>...</td>\n",
       "      <td>...</td>\n",
       "      <td>...</td>\n",
       "      <td>...</td>\n",
       "      <td>...</td>\n",
       "      <td>...</td>\n",
       "      <td>...</td>\n",
       "      <td>...</td>\n",
       "      <td>...</td>\n",
       "      <td>...</td>\n",
       "      <td>...</td>\n",
       "      <td>...</td>\n",
       "      <td>...</td>\n",
       "      <td>...</td>\n",
       "      <td>...</td>\n",
       "    </tr>\n",
       "    <tr>\n",
       "      <th>461237</th>\n",
       "      <td>1.879790</td>\n",
       "      <td>75.00482</td>\n",
       "      <td>3.000193</td>\n",
       "      <td>79.819145</td>\n",
       "      <td>78.329117</td>\n",
       "      <td>29.627552</td>\n",
       "      <td>34.574463</td>\n",
       "      <td>1.992006</td>\n",
       "      <td>1.723834</td>\n",
       "      <td>6.002450</td>\n",
       "      <td>6.019177</td>\n",
       "      <td>0.300858</td>\n",
       "      <td>0.230055</td>\n",
       "      <td>0.152083</td>\n",
       "      <td>0.104703</td>\n",
       "      <td>4934550</td>\n",
       "      <td>82242</td>\n",
       "    </tr>\n",
       "    <tr>\n",
       "      <th>461238</th>\n",
       "      <td>1.879790</td>\n",
       "      <td>75.00482</td>\n",
       "      <td>3.000193</td>\n",
       "      <td>79.819145</td>\n",
       "      <td>78.329117</td>\n",
       "      <td>29.627552</td>\n",
       "      <td>34.574463</td>\n",
       "      <td>1.992006</td>\n",
       "      <td>1.723834</td>\n",
       "      <td>6.002450</td>\n",
       "      <td>6.019177</td>\n",
       "      <td>0.300858</td>\n",
       "      <td>0.230055</td>\n",
       "      <td>0.152083</td>\n",
       "      <td>0.104703</td>\n",
       "      <td>4934550</td>\n",
       "      <td>82242</td>\n",
       "    </tr>\n",
       "    <tr>\n",
       "      <th>461239</th>\n",
       "      <td>1.880171</td>\n",
       "      <td>75.00482</td>\n",
       "      <td>2.999912</td>\n",
       "      <td>79.819145</td>\n",
       "      <td>78.354111</td>\n",
       "      <td>29.627552</td>\n",
       "      <td>34.560806</td>\n",
       "      <td>1.992006</td>\n",
       "      <td>1.723834</td>\n",
       "      <td>6.002450</td>\n",
       "      <td>5.960248</td>\n",
       "      <td>0.300858</td>\n",
       "      <td>0.215435</td>\n",
       "      <td>0.156957</td>\n",
       "      <td>0.103140</td>\n",
       "      <td>4934580</td>\n",
       "      <td>82243</td>\n",
       "    </tr>\n",
       "    <tr>\n",
       "      <th>461240</th>\n",
       "      <td>1.880171</td>\n",
       "      <td>75.00482</td>\n",
       "      <td>2.999912</td>\n",
       "      <td>79.819145</td>\n",
       "      <td>78.354111</td>\n",
       "      <td>29.627552</td>\n",
       "      <td>34.560806</td>\n",
       "      <td>1.992006</td>\n",
       "      <td>1.723834</td>\n",
       "      <td>6.002450</td>\n",
       "      <td>5.960248</td>\n",
       "      <td>0.300858</td>\n",
       "      <td>0.215435</td>\n",
       "      <td>0.156957</td>\n",
       "      <td>0.103140</td>\n",
       "      <td>4934580</td>\n",
       "      <td>82243</td>\n",
       "    </tr>\n",
       "    <tr>\n",
       "      <th>461241</th>\n",
       "      <td>1.880171</td>\n",
       "      <td>75.00482</td>\n",
       "      <td>2.999912</td>\n",
       "      <td>79.819145</td>\n",
       "      <td>78.354111</td>\n",
       "      <td>29.627552</td>\n",
       "      <td>34.560806</td>\n",
       "      <td>1.992006</td>\n",
       "      <td>1.723834</td>\n",
       "      <td>6.002450</td>\n",
       "      <td>5.960248</td>\n",
       "      <td>0.300858</td>\n",
       "      <td>0.215435</td>\n",
       "      <td>0.156957</td>\n",
       "      <td>0.103140</td>\n",
       "      <td>4934580</td>\n",
       "      <td>82243</td>\n",
       "    </tr>\n",
       "  </tbody>\n",
       "</table>\n",
       "<p>461242 rows × 17 columns</p>\n",
       "</div>"
      ],
      "text/plain": [
       "        cell_voltage_001   current  current_density  temp_anode_inlet  \\\n",
       "0              -0.095167  -0.01262        -0.000505         22.524658   \n",
       "1              -0.095167  -0.01262        -0.000505         22.524658   \n",
       "2              -0.095167  -0.01262        -0.000505         22.524658   \n",
       "3              -0.095167  -0.01192        -0.000477         23.574999   \n",
       "4              -0.095167  -0.01192        -0.000477         23.574999   \n",
       "...                  ...       ...              ...               ...   \n",
       "461237          1.879790  75.00482         3.000193         79.819145   \n",
       "461238          1.879790  75.00482         3.000193         79.819145   \n",
       "461239          1.880171  75.00482         2.999912         79.819145   \n",
       "461240          1.880171  75.00482         2.999912         79.819145   \n",
       "461241          1.880171  75.00482         2.999912         79.819145   \n",
       "\n",
       "        temp_anode_outlet  temp_cathode_inlet  temp_cathode_outlet  \\\n",
       "0               22.211363           22.943993            22.664978   \n",
       "1               22.211363           22.943993            22.664978   \n",
       "2               22.211363           22.943993            22.664978   \n",
       "3               22.622944           22.930300            22.651320   \n",
       "4               22.622944           22.930300            22.651320   \n",
       "...                   ...                 ...                  ...   \n",
       "461237          78.329117           29.627552            34.574463   \n",
       "461238          78.329117           29.627552            34.574463   \n",
       "461239          78.354111           29.627552            34.560806   \n",
       "461240          78.354111           29.627552            34.560806   \n",
       "461241          78.354111           29.627552            34.560806   \n",
       "\n",
       "        pressure_anode_inlet  pressure_anode_outlet  pressure_cathode_inlet  \\\n",
       "0                   0.015911              -0.026205               -0.009285   \n",
       "1                   0.015911              -0.026205               -0.009285   \n",
       "2                   0.015911              -0.026205               -0.009285   \n",
       "3                   0.184089              -0.026205               -0.009285   \n",
       "4                   0.184089              -0.026205               -0.009285   \n",
       "...                      ...                    ...                     ...   \n",
       "461237              1.992006               1.723834                6.002450   \n",
       "461238              1.992006               1.723834                6.002450   \n",
       "461239              1.992006               1.723834                6.002450   \n",
       "461240              1.992006               1.723834                6.002450   \n",
       "461241              1.992006               1.723834                6.002450   \n",
       "\n",
       "        pressure_cathode_outlet  flow_anode_di_water_supply  \\\n",
       "0                     -0.009439                    0.149858   \n",
       "1                     -0.009439                    0.149858   \n",
       "2                     -0.009439                    0.149858   \n",
       "3                     -0.001021                    0.270174   \n",
       "4                     -0.001021                    0.270174   \n",
       "...                         ...                         ...   \n",
       "461237                 6.019177                    0.300858   \n",
       "461238                 6.019177                    0.300858   \n",
       "461239                 5.960248                    0.300858   \n",
       "461240                 5.960248                    0.300858   \n",
       "461241                 5.960248                    0.300858   \n",
       "\n",
       "        signal_in_resistivity_anode  signal_in_resistivity_cathode  \\\n",
       "0                          0.142337                       0.580925   \n",
       "1                          0.142337                       0.580925   \n",
       "2                          0.142337                       0.580925   \n",
       "3                          0.132591                       0.585798   \n",
       "4                          0.132591                       0.585798   \n",
       "...                             ...                            ...   \n",
       "461237                     0.230055                       0.152083   \n",
       "461238                     0.230055                       0.152083   \n",
       "461239                     0.215435                       0.156957   \n",
       "461240                     0.215435                       0.156957   \n",
       "461241                     0.215435                       0.156957   \n",
       "\n",
       "        signal_in_h2_in_o2_sensor  seconds  minutes  \n",
       "0                        0.278146        0        0  \n",
       "1                        0.278146        0        0  \n",
       "2                        0.278146        0        0  \n",
       "3                        0.276583       30        0  \n",
       "4                        0.276583       30        0  \n",
       "...                           ...      ...      ...  \n",
       "461237                   0.104703  4934550    82242  \n",
       "461238                   0.104703  4934550    82242  \n",
       "461239                   0.103140  4934580    82243  \n",
       "461240                   0.103140  4934580    82243  \n",
       "461241                   0.103140  4934580    82243  \n",
       "\n",
       "[461242 rows x 17 columns]"
      ]
     },
     "execution_count": 8,
     "metadata": {},
     "output_type": "execute_result"
    }
   ],
   "source": [
    "df = pd.read_csv(r'C:\\Users\\whiter04\\OneDrive - Johnson Matthey\\00. cspark\\ELY\\ELY-TimeSeries\\Data\\master_data_frame.csv')\n",
    "df_copy = df.copy()\n",
    "df_copy = df_copy.drop('Unnamed: 0',axis=1) \n",
    "df_copy\n",
    "\n",
    "\n",
    "to_drop = ['temp_anode_inlet_set', \n",
    "           'temp_cathode_inlet_set', \n",
    "           'pressure_anode_set',\n",
    "           'pressure_cathode_set', \n",
    "           'flow_anode_di_water_supply_set', \n",
    "           'flow_cathode_di_water_supply_set', \n",
    "          'flow_cathode_di_water_supply', \n",
    "           'signal_in_o2_in_h2_sensor']\n",
    "\n",
    "df_copy = df_copy.drop(to_drop, axis=1)\n",
    "df_copy\n",
    "\n",
    "\n",
    "df_copy['seconds'] = (df_copy['time_running_total']/1000).astype(int)\n",
    "df_copy['minutes'] = (df_copy['seconds']/60).astype(int)\n",
    "\n",
    "# df_copy['hours'] = (df_copy['minutes']/60).astype(int)\n",
    "# df_copy['days'] = (df_copy['hours']/24).astype(int)\n",
    "# df_copy['weeks'] = (df_copy['days']/7).astype(int)\n",
    "df_copy = df_copy.drop('time_running_total',axis=1)\n",
    "\n",
    "# df_copy = df_copy.tail(150000)\n",
    "df_copy"
   ]
  },
  {
   "cell_type": "code",
   "execution_count": 4,
   "id": "8692f7b4",
   "metadata": {
    "scrolled": true
   },
   "outputs": [
    {
     "data": {
      "image/png": "[encoded data removed]",
      "text/plain": [
       "<Figure size 432x288 with 1 Axes>"
      ]
     },
     "metadata": {
      "needs_background": "light"
     },
     "output_type": "display_data"
    },
    {
     "data": {
      "text/html": [
       "<div>\n",
       "<style scoped>\n",
       "    .dataframe tbody tr th:only-of-type {\n",
       "        vertical-align: middle;\n",
       "    }\n",
       "\n",
       "    .dataframe tbody tr th {\n",
       "        vertical-align: top;\n",
       "    }\n",
       "\n",
       "    .dataframe thead th {\n",
       "        text-align: right;\n",
       "    }\n",
       "</style>\n",
       "<table border=\"1\" class=\"dataframe\">\n",
       "  <thead>\n",
       "    <tr style=\"text-align: right;\">\n",
       "      <th></th>\n",
       "      <th>cell_voltage_001</th>\n",
       "      <th>current</th>\n",
       "      <th>signal_in_h2_in_o2_sensor</th>\n",
       "    </tr>\n",
       "    <tr>\n",
       "      <th>minutes</th>\n",
       "      <th></th>\n",
       "      <th></th>\n",
       "      <th></th>\n",
       "    </tr>\n",
       "  </thead>\n",
       "  <tbody>\n",
       "    <tr>\n",
       "      <th>2024-06-27 12:42:00</th>\n",
       "      <td>1.567043</td>\n",
       "      <td>12.500570</td>\n",
       "      <td>0.241426</td>\n",
       "    </tr>\n",
       "    <tr>\n",
       "      <th>2024-06-27 12:43:00</th>\n",
       "      <td>1.566948</td>\n",
       "      <td>12.504425</td>\n",
       "      <td>0.240645</td>\n",
       "    </tr>\n",
       "    <tr>\n",
       "      <th>2024-06-27 12:44:00</th>\n",
       "      <td>1.566757</td>\n",
       "      <td>12.501270</td>\n",
       "      <td>0.242207</td>\n",
       "    </tr>\n",
       "    <tr>\n",
       "      <th>2024-06-27 12:45:00</th>\n",
       "      <td>1.566948</td>\n",
       "      <td>12.498465</td>\n",
       "      <td>0.241426</td>\n",
       "    </tr>\n",
       "    <tr>\n",
       "      <th>2024-06-27 12:46:00</th>\n",
       "      <td>1.566852</td>\n",
       "      <td>12.503375</td>\n",
       "      <td>0.240645</td>\n",
       "    </tr>\n",
       "    <tr>\n",
       "      <th>...</th>\n",
       "      <td>...</td>\n",
       "      <td>...</td>\n",
       "      <td>...</td>\n",
       "    </tr>\n",
       "    <tr>\n",
       "      <th>2024-07-12 02:39:00</th>\n",
       "      <td>1.879218</td>\n",
       "      <td>74.993604</td>\n",
       "      <td>0.101265</td>\n",
       "    </tr>\n",
       "    <tr>\n",
       "      <th>2024-07-12 02:40:00</th>\n",
       "      <td>1.879294</td>\n",
       "      <td>75.000614</td>\n",
       "      <td>0.103140</td>\n",
       "    </tr>\n",
       "    <tr>\n",
       "      <th>2024-07-12 02:41:00</th>\n",
       "      <td>1.879599</td>\n",
       "      <td>74.996408</td>\n",
       "      <td>0.103140</td>\n",
       "    </tr>\n",
       "    <tr>\n",
       "      <th>2024-07-12 02:42:00</th>\n",
       "      <td>1.879790</td>\n",
       "      <td>75.000614</td>\n",
       "      <td>0.103765</td>\n",
       "    </tr>\n",
       "    <tr>\n",
       "      <th>2024-07-12 02:43:00</th>\n",
       "      <td>1.880171</td>\n",
       "      <td>75.004820</td>\n",
       "      <td>0.103140</td>\n",
       "    </tr>\n",
       "  </tbody>\n",
       "</table>\n",
       "<p>21000 rows × 3 columns</p>\n",
       "</div>"
      ],
      "text/plain": [
       "                     cell_voltage_001    current  signal_in_h2_in_o2_sensor\n",
       "minutes                                                                    \n",
       "2024-06-27 12:42:00          1.567043  12.500570                   0.241426\n",
       "2024-06-27 12:43:00          1.566948  12.504425                   0.240645\n",
       "2024-06-27 12:44:00          1.566757  12.501270                   0.242207\n",
       "2024-06-27 12:45:00          1.566948  12.498465                   0.241426\n",
       "2024-06-27 12:46:00          1.566852  12.503375                   0.240645\n",
       "...                               ...        ...                        ...\n",
       "2024-07-12 02:39:00          1.879218  74.993604                   0.101265\n",
       "2024-07-12 02:40:00          1.879294  75.000614                   0.103140\n",
       "2024-07-12 02:41:00          1.879599  74.996408                   0.103140\n",
       "2024-07-12 02:42:00          1.879790  75.000614                   0.103765\n",
       "2024-07-12 02:43:00          1.880171  75.004820                   0.103140\n",
       "\n",
       "[21000 rows x 3 columns]"
      ]
     },
     "execution_count": 4,
     "metadata": {},
     "output_type": "execute_result"
    }
   ],
   "source": [
    "import matplotlib.pyplot as plt\n",
    "\n",
    "time_period = 'minutes'\n",
    "\n",
    "df_time = df_copy.groupby(time_period).mean().reset_index()\n",
    "\n",
    "downsampled_df = df_time.tail(21000).reset_index()\n",
    "\n",
    "downsampled_df = downsampled_df[['minutes','cell_voltage_001','current','signal_in_h2_in_o2_sensor']]\n",
    "\n",
    "downsampled_df[time_period] = pd.to_datetime('2024-05-16 00:00:00') + pd.to_timedelta(downsampled_df[time_period], unit='m')\n",
    "\n",
    "\n",
    "\n",
    "plt.plot(downsampled_df['signal_in_h2_in_o2_sensor'])\n",
    "\n",
    "plt.show()\n",
    "\n",
    "downsampled_df = downsampled_df.set_index('minutes')\n",
    "downsampled_df"
   ]
  },
  {
   "cell_type": "code",
   "execution_count": 5,
   "id": "ff150067",
   "metadata": {},
   "outputs": [
    {
     "data": {
      "text/plain": [
       "<AxesSubplot:xlabel='minutes'>"
      ]
     },
     "execution_count": 5,
     "metadata": {},
     "output_type": "execute_result"
    },
    {
     "data": {
      "image/png": "[encoded data removed]",
      "text/plain": [
       "<Figure size 432x288 with 1 Axes>"
      ]
     },
     "metadata": {
      "needs_background": "light"
     },
     "output_type": "display_data"
    }
   ],
   "source": [
    "\n",
    "vals = downsampled_df['signal_in_h2_in_o2_sensor']\n",
    "vals.plot()\n"
   ]
  },
  {
   "cell_type": "code",
   "execution_count": 6,
   "id": "7f7925b4",
   "metadata": {},
   "outputs": [
    {
     "name": "stdout",
     "output_type": "stream",
     "text": [
      "(-2.2985641562444474, 0.680400385199823, 4, 20995, {'1%': -4.371682031761406, '5%': -3.8326713191317885, '10%': -3.5534343201834644}, -185981.39795723872)\n",
      "(-81.87104588119264, 0.0, 3, 20995, {'1%': -4.371682031761406, '5%': -3.8326713191317885, '10%': -3.5534343201834644}, -185968.16589085385)\n"
     ]
    },
    {
     "data": {
      "text/plain": [
       "<AxesSubplot:xlabel='minutes'>"
      ]
     },
     "execution_count": 6,
     "metadata": {},
     "output_type": "execute_result"
    },
    {
     "data": {
      "image/png": "[encoded data removed]",
      "text/plain": [
       "<Figure size 432x288 with 1 Axes>"
      ]
     },
     "metadata": {
      "needs_background": "light"
     },
     "output_type": "display_data"
    }
   ],
   "source": [
    "\n",
    "og_data_adf = sm.tsa.stattools.adfuller(downsampled_df['signal_in_h2_in_o2_sensor'], \n",
    "                                  regression='ctt', \n",
    "                                  autolag='AIC', \n",
    "                                  store=False, \n",
    "                                  regresults=False)\n",
    "\n",
    "\n",
    "\n",
    "\n",
    "\n",
    "differenced_data = vals.diff().dropna()\n",
    "\n",
    "\n",
    "differenced_data_adf = sm.tsa.stattools.adfuller(differenced_data, \n",
    "                                  regression='ctt', \n",
    "                                  autolag='AIC', \n",
    "                                  store=False, \n",
    "                                  regresults=False)\n",
    "\n",
    "\n",
    "\n",
    "\n",
    "\n",
    "print(og_data_adf)\n",
    "\n",
    "print(differenced_data_adf)\n",
    "\n",
    "differenced_data.plot()"
   ]
  },
  {
   "cell_type": "code",
   "execution_count": 7,
   "id": "53f3f802",
   "metadata": {
    "scrolled": true
   },
   "outputs": [
    {
     "name": "stdout",
     "output_type": "stream",
     "text": [
      "(-19.542491302396538, 0.0, 46, 20948, {'1%': -4.371683270510881, '5%': -3.8326719503774993, '10%': -3.553434711324142}, -251721.97120997927)\n"
     ]
    },
    {
     "data": {
      "text/plain": [
       "<AxesSubplot:xlabel='minutes'>"
      ]
     },
     "execution_count": 7,
     "metadata": {},
     "output_type": "execute_result"
    },
    {
     "data": {
      "image/png": "[encoded data removed]",
      "text/plain": [
       "<Figure size 432x288 with 1 Axes>"
      ]
     },
     "metadata": {
      "needs_background": "light"
     },
     "output_type": "display_data"
    }
   ],
   "source": [
    "# the presence of large peaks means i shoudl smooth the data to deal with outliers or rapidly changing points \n",
    "\n",
    "def moving_average(data, window=3):\n",
    "    return data.rolling(window=window).mean()\n",
    "\n",
    "\n",
    "# smoothed\n",
    "downsampled_df['smoothed_value'] = moving_average(downsampled_df['signal_in_h2_in_o2_sensor'], window=5)\n",
    "\n",
    "\n",
    "vals_smoothed = downsampled_df['smoothed_value']\n",
    "vals_smoothed = vals_smoothed.dropna()\n",
    "\n",
    "\n",
    "\n",
    "# differenced\n",
    "differenced_data_smoothed = vals_smoothed.diff().dropna()\n",
    "\n",
    "\n",
    "vals_smoothed_adf = sm.tsa.stattools.adfuller(differenced_data_smoothed, \n",
    "                                  regression='ctt', \n",
    "                                  autolag='AIC', \n",
    "                                  store=False, \n",
    "                                  regresults=False)\n",
    "\n",
    "\n",
    "\n",
    "print(vals_smoothed_adf)\n",
    "\n",
    "differenced_data_smoothed.plot()"
   ]
  },
  {
   "cell_type": "code",
   "execution_count": 8,
   "id": "b978b437",
   "metadata": {},
   "outputs": [
    {
     "name": "stdout",
     "output_type": "stream",
     "text": [
      "(-14.816575947200157, 1.0857482142166904e-23, 46, 20863, {'1%': -4.371685524978893, '5%': -3.8326730992158007, '10%': -3.5534354231821283}, -292379.1961117088)\n"
     ]
    },
    {
     "data": {
      "text/plain": [
       "<AxesSubplot:xlabel='minutes'>"
      ]
     },
     "execution_count": 8,
     "metadata": {},
     "output_type": "execute_result"
    },
    {
     "data": {
      "image/png": "[encoded data removed]",
      "text/plain": [
       "<Figure size 432x288 with 1 Axes>"
      ]
     },
     "metadata": {
      "needs_background": "light"
     },
     "output_type": "display_data"
    }
   ],
   "source": [
    "# As the data still contains outliers, i will remove these \n",
    "\n",
    "\n",
    "threshold_value = 0.002\n",
    "\n",
    "\n",
    "differenced_data_smoothed = pd.Series(differenced_data_smoothed)\n",
    "\n",
    "\n",
    "# removing outliers\n",
    "differenced_data_smoothed_outliers = differenced_data_smoothed[~((differenced_data_smoothed > threshold_value) | (differenced_data_smoothed < -threshold_value)) ]\n",
    "\n",
    "\n",
    "\n",
    "\n",
    "differenced_data_smoothed_outliers_adf = sm.tsa.stattools.adfuller(differenced_data_smoothed_outliers, \n",
    "                                  regression='ctt', \n",
    "                                  autolag='AIC', \n",
    "                                  store=False, \n",
    "                                  regresults=False)\n",
    "\n",
    "\n",
    "\n",
    "print(differenced_data_smoothed_outliers_adf)\n",
    "\n",
    "differenced_data_smoothed_outliers.plot()"
   ]
  },
  {
   "cell_type": "code",
   "execution_count": 9,
   "id": "5d3ea8be",
   "metadata": {},
   "outputs": [
    {
     "data": {
      "image/png": "[encoded data removed]",
      "text/plain": [
       "<Figure size 1152x432 with 2 Axes>"
      ]
     },
     "metadata": {
      "needs_background": "light"
     },
     "output_type": "display_data"
    }
   ],
   "source": [
    "# Plot ACF and PACF\n",
    "fig, axes = plt.subplots(1, 2, figsize=(16, 6))\n",
    "\n",
    "# ACF plot for identifying q\n",
    "plot_acf(differenced_data_smoothed_outliers, lags=40, ax=axes[0])\n",
    "axes[0].set_title('ACF Plot')\n",
    "\n",
    "# PACF plot for identifying p\n",
    "plot_pacf(differenced_data_smoothed_outliers, lags=40, ax=axes[1])\n",
    "axes[1].set_title('PACF Plot')\n",
    "\n",
    "plt.show()"
   ]
  },
  {
   "cell_type": "code",
   "execution_count": 10,
   "id": "84a6c096",
   "metadata": {},
   "outputs": [],
   "source": [
    "vals_series = pd.Series(differenced_data_smoothed_outliers)\n",
    "\n",
    "train_size = int(len( vals_smoothed) * 0.8)\n",
    "train, test = vals_smoothed[:train_size], vals_smoothed[train_size:]\n",
    "\n",
    "\n",
    "\n",
    "\n",
    "train_size = int(len(vals_series) * 0.8)\n",
    "train_diff, test_diff = vals_series[:train_size], vals_series[train_size:]\n",
    "\n",
    "\n",
    "# Apply differencing to make the data stationary\n",
    "train_diff = train_diff.dropna()\n",
    "train_diff = train_diff.reset_index(drop=True)\n"
   ]
  },
  {
   "cell_type": "code",
   "execution_count": 11,
   "id": "4fef6572",
   "metadata": {
    "scrolled": true
   },
   "outputs": [],
   "source": [
    "model = ARIMA(train_diff, order=(3, 1, 6))  # Adjust p, d, q as needed\n",
    "model_fit = model.fit()\n",
    "\n",
    "start = len(train_diff)\n",
    "end = len(train_diff) + len(test) - 1\n",
    "\n",
    "predictions_diff = model_fit.predict(start=start, end=end, dynamic=False)\n",
    "\n",
    "\n"
   ]
  },
  {
   "cell_type": "code",
   "execution_count": 12,
   "id": "200e4ef4",
   "metadata": {},
   "outputs": [
    {
     "name": "stdout",
     "output_type": "stream",
     "text": [
      "Mean Squared Error: 0.04647886940556028\n",
      "Root Mean Squared Error: 0.21558958556841348\n",
      "Root Mean Squared Error percentage: 129.95900258807896%\n",
      "r2: -7.206845235398829\n",
      "AIC: -234391.26267128898\n",
      "BIC: -234314.01487669584\n"
     ]
    },
    {
     "data": {
      "image/png": "[encoded data removed]",
      "text/plain": [
       "<Figure size 432x288 with 1 Axes>"
      ]
     },
     "metadata": {
      "needs_background": "light"
     },
     "output_type": "display_data"
    }
   ],
   "source": [
    "# Evaluate the model\n",
    "mse = mean_squared_error(test, predictions_diff.cumsum()+train.iloc[-1])\n",
    "print(f'Mean Squared Error: {mse}')\n",
    "\n",
    "rmse = np.sqrt(mse)\n",
    "print(f'Root Mean Squared Error: {rmse}')\n",
    "\n",
    "rmse_percentage = (rmse/(np.mean(test)))*100\n",
    "print(f'Root Mean Squared Error percentage: {rmse_percentage}%')\n",
    "\n",
    "\n",
    "\n",
    "r2 = r2_score(test, predictions_diff.cumsum()+train.iloc[-1])\n",
    "print(f'r2: {r2}')\n",
    "\n",
    "\n",
    "# Print AIC and BIC values\n",
    "print(f\"AIC: {model_fit.aic}\")\n",
    "print(f\"BIC: {model_fit.bic}\")\n",
    "\n",
    "\n",
    "# Plot actual vs predicted values\n",
    "plt.plot(range(len(train)), train, label='Train')\n",
    "plt.plot(range(len(train), len(train) + len(test)), test, label='Test')\n",
    "plt.plot(range(len(train), len(train) + len(test)),  predictions_diff.cumsum()+train.iloc[-1], label='Predicted')\n",
    "plt.legend()\n",
    "plt.show()\n"
   ]
  },
  {
   "cell_type": "code",
   "execution_count": 15,
   "id": "826bfd26",
   "metadata": {},
   "outputs": [
    {
     "data": {
      "image/png": "[encoded data removed]",
      "text/plain": [
       "<Figure size 432x288 with 1 Axes>"
      ]
     },
     "metadata": {
      "needs_background": "light"
     },
     "output_type": "display_data"
    },
    {
     "data": {
      "image/png": "[encoded data removed]",
      "text/plain": [
       "<Figure size 432x288 with 1 Axes>"
      ]
     },
     "metadata": {
      "needs_background": "light"
     },
     "output_type": "display_data"
    },
    {
     "data": {
      "image/png": "[encoded data removed]",
      "text/plain": [
       "<Figure size 432x288 with 1 Axes>"
      ]
     },
     "metadata": {
      "needs_background": "light"
     },
     "output_type": "display_data"
    }
   ],
   "source": [
    "residuals = model_fit.resid\n",
    "plt.plot(residuals)\n",
    "plt.title('Residuals')\n",
    "plt.show()\n",
    "\n",
    "plot_acf(residuals)\n",
    "plt.title('AFC Residuals')\n",
    "plt.show()\n",
    "\n",
    "\n",
    "\n",
    "plot_pacf(residuals)\n",
    "plt.title('PAFC Residuals')\n",
    "plt.show()"
   ]
  },
  {
   "cell_type": "code",
   "execution_count": 23,
   "id": "5f8cb7de",
   "metadata": {},
   "outputs": [
    {
     "name": "stdout",
     "output_type": "stream",
     "text": [
      "KS Test: KstestResult(statistic=0.10463562478401955, pvalue=6.349500116637517e-160)\n"
     ]
    }
   ],
   "source": [
    "kst = kstest(residuals, 'norm', args=(residuals.mean(), residuals.std()))\n",
    "\n",
    "print(f'KS Test: {kst}')"
   ]
  },
  {
   "cell_type": "code",
   "execution_count": null,
   "id": "e9a32f2d",
   "metadata": {},
   "outputs": [],
   "source": []
  }
 ],
 "metadata": {
  "kernelspec": {
   "display_name": "Python 3",
   "language": "python",
   "name": "python3"
  },
  "language_info": {
   "codemirror_mode": {
    "name": "ipython",
    "version": 3
   },
   "file_extension": ".py",
   "mimetype": "text/x-python",
   "name": "python",
   "nbconvert_exporter": "python",
   "pygments_lexer": "ipython3",
   "version": "3.8.8"
  }
 },
 "nbformat": 4,
 "nbformat_minor": 5
}
