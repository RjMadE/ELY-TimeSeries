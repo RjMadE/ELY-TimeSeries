{
 "cells": [
  {
   "cell_type": "code",
   "execution_count": 77,
   "id": "91e8b442",
   "metadata": {},
   "outputs": [],
   "source": [
    "# generate future y values using past x values AND previous y values"
   ]
  },
  {
   "cell_type": "code",
   "execution_count": 29,
   "id": "a665324a",
   "metadata": {},
   "outputs": [],
   "source": [
    "import pandas as pd\n",
    "import numpy as np\n",
    "import os\n",
    "import shutil\n",
    "import openpyxl\n",
    "import matplotlib.pyplot as plt\n",
    "import seaborn as sns\n",
    "import matplotlib as plt\n",
    "import re\n",
    "\n",
    "from sklearn.model_selection import train_test_split\n",
    "\n",
    "from sklearn.preprocessing import MinMaxScaler\n",
    "\n",
    "\n",
    "from sklearn.base import BaseEstimator, TransformerMixin\n",
    "from sklearn.pipeline import Pipeline, FeatureUnion, make_pipeline\n",
    "\n",
    "from sklearn.preprocessing import FunctionTransformer\n",
    "from sklearn.preprocessing import StandardScaler\n",
    "from sklearn.preprocessing import OneHotEncoder\n",
    "from sklearn.preprocessing import LabelEncoder\n",
    "from sklearn.decomposition import PCA\n",
    "\n",
    "from sklearn.metrics import mean_squared_error, mean_absolute_error\n",
    "\n",
    "\n",
    "\n",
    "from keras.models import Sequential\n",
    "from keras.layers import Dense\n",
    "from keras.layers import LSTM, Dropout\n",
    "\n",
    "\n",
    "import pickle\n"
   ]
  },
  {
   "cell_type": "code",
   "execution_count": 4,
   "id": "5aa61eec",
   "metadata": {},
   "outputs": [],
   "source": [
    "\n",
    "def convert_to_dataframe(x):\n",
    "    return pd.DataFrame(x)\n"
   ]
  },
  {
   "cell_type": "code",
   "execution_count": 63,
   "id": "66c783c3",
   "metadata": {},
   "outputs": [],
   "source": [
    "def create_sequences(features, target, seq_length):\n",
    "    X, y = [], []\n",
    "    for i in range(seq_length, len(features)):\n",
    "        # Include both features and previous target values\n",
    "        X.append(np.hstack((features[i-seq_length:i], target[i-seq_length:i])))\n",
    "        y.append(target[i])\n",
    "    return np.array(X), np.array(y)\n",
    "\n"
   ]
  },
  {
   "cell_type": "code",
   "execution_count": 39,
   "id": "f21cd0e5",
   "metadata": {},
   "outputs": [],
   "source": [
    "def predict_future(model, data, seq_length, future_steps):\n",
    "    future_predictions = []\n",
    "    current_sequence = data[-seq_length:].reshape(1, seq_length, data.shape[1])\n",
    "    \n",
    "    return(current_sequence)"
   ]
  },
  {
   "cell_type": "code",
   "execution_count": 64,
   "id": "befc77e9",
   "metadata": {},
   "outputs": [
    {
     "data": {
      "text/html": [
       "<div>\n",
       "<style scoped>\n",
       "    .dataframe tbody tr th:only-of-type {\n",
       "        vertical-align: middle;\n",
       "    }\n",
       "\n",
       "    .dataframe tbody tr th {\n",
       "        vertical-align: top;\n",
       "    }\n",
       "\n",
       "    .dataframe thead th {\n",
       "        text-align: right;\n",
       "    }\n",
       "</style>\n",
       "<table border=\"1\" class=\"dataframe\">\n",
       "  <thead>\n",
       "    <tr style=\"text-align: right;\">\n",
       "      <th></th>\n",
       "      <th>cell_voltage_001</th>\n",
       "      <th>current</th>\n",
       "      <th>current_density</th>\n",
       "      <th>temp_anode_inlet</th>\n",
       "      <th>temp_anode_outlet</th>\n",
       "      <th>temp_cathode_inlet</th>\n",
       "      <th>temp_cathode_outlet</th>\n",
       "      <th>pressure_anode_inlet</th>\n",
       "      <th>pressure_anode_outlet</th>\n",
       "      <th>pressure_cathode_inlet</th>\n",
       "      <th>pressure_cathode_outlet</th>\n",
       "      <th>flow_anode_di_water_supply</th>\n",
       "      <th>signal_in_resistivity_anode</th>\n",
       "      <th>signal_in_resistivity_cathode</th>\n",
       "      <th>signal_in_h2_in_o2_sensor</th>\n",
       "      <th>seconds</th>\n",
       "      <th>minutes</th>\n",
       "    </tr>\n",
       "  </thead>\n",
       "  <tbody>\n",
       "    <tr>\n",
       "      <th>0</th>\n",
       "      <td>-0.095167</td>\n",
       "      <td>-0.01262</td>\n",
       "      <td>-0.000505</td>\n",
       "      <td>22.524658</td>\n",
       "      <td>22.211363</td>\n",
       "      <td>22.943993</td>\n",
       "      <td>22.664978</td>\n",
       "      <td>0.015911</td>\n",
       "      <td>-0.026205</td>\n",
       "      <td>-0.009285</td>\n",
       "      <td>-0.009439</td>\n",
       "      <td>0.149858</td>\n",
       "      <td>0.142337</td>\n",
       "      <td>0.580925</td>\n",
       "      <td>0.278146</td>\n",
       "      <td>0</td>\n",
       "      <td>0</td>\n",
       "    </tr>\n",
       "    <tr>\n",
       "      <th>1</th>\n",
       "      <td>-0.095167</td>\n",
       "      <td>-0.01262</td>\n",
       "      <td>-0.000505</td>\n",
       "      <td>22.524658</td>\n",
       "      <td>22.211363</td>\n",
       "      <td>22.943993</td>\n",
       "      <td>22.664978</td>\n",
       "      <td>0.015911</td>\n",
       "      <td>-0.026205</td>\n",
       "      <td>-0.009285</td>\n",
       "      <td>-0.009439</td>\n",
       "      <td>0.149858</td>\n",
       "      <td>0.142337</td>\n",
       "      <td>0.580925</td>\n",
       "      <td>0.278146</td>\n",
       "      <td>0</td>\n",
       "      <td>0</td>\n",
       "    </tr>\n",
       "    <tr>\n",
       "      <th>2</th>\n",
       "      <td>-0.095167</td>\n",
       "      <td>-0.01262</td>\n",
       "      <td>-0.000505</td>\n",
       "      <td>22.524658</td>\n",
       "      <td>22.211363</td>\n",
       "      <td>22.943993</td>\n",
       "      <td>22.664978</td>\n",
       "      <td>0.015911</td>\n",
       "      <td>-0.026205</td>\n",
       "      <td>-0.009285</td>\n",
       "      <td>-0.009439</td>\n",
       "      <td>0.149858</td>\n",
       "      <td>0.142337</td>\n",
       "      <td>0.580925</td>\n",
       "      <td>0.278146</td>\n",
       "      <td>0</td>\n",
       "      <td>0</td>\n",
       "    </tr>\n",
       "    <tr>\n",
       "      <th>3</th>\n",
       "      <td>-0.095167</td>\n",
       "      <td>-0.01192</td>\n",
       "      <td>-0.000477</td>\n",
       "      <td>23.574999</td>\n",
       "      <td>22.622944</td>\n",
       "      <td>22.930300</td>\n",
       "      <td>22.651320</td>\n",
       "      <td>0.184089</td>\n",
       "      <td>-0.026205</td>\n",
       "      <td>-0.009285</td>\n",
       "      <td>-0.001021</td>\n",
       "      <td>0.270174</td>\n",
       "      <td>0.132591</td>\n",
       "      <td>0.585798</td>\n",
       "      <td>0.276583</td>\n",
       "      <td>30</td>\n",
       "      <td>0</td>\n",
       "    </tr>\n",
       "    <tr>\n",
       "      <th>4</th>\n",
       "      <td>-0.095167</td>\n",
       "      <td>-0.01192</td>\n",
       "      <td>-0.000477</td>\n",
       "      <td>23.574999</td>\n",
       "      <td>22.622944</td>\n",
       "      <td>22.930300</td>\n",
       "      <td>22.651320</td>\n",
       "      <td>0.184089</td>\n",
       "      <td>-0.026205</td>\n",
       "      <td>-0.009285</td>\n",
       "      <td>-0.001021</td>\n",
       "      <td>0.270174</td>\n",
       "      <td>0.132591</td>\n",
       "      <td>0.585798</td>\n",
       "      <td>0.276583</td>\n",
       "      <td>30</td>\n",
       "      <td>0</td>\n",
       "    </tr>\n",
       "    <tr>\n",
       "      <th>...</th>\n",
       "      <td>...</td>\n",
       "      <td>...</td>\n",
       "      <td>...</td>\n",
       "      <td>...</td>\n",
       "      <td>...</td>\n",
       "      <td>...</td>\n",
       "      <td>...</td>\n",
       "      <td>...</td>\n",
       "      <td>...</td>\n",
       "      <td>...</td>\n",
       "      <td>...</td>\n",
       "      <td>...</td>\n",
       "      <td>...</td>\n",
       "      <td>...</td>\n",
       "      <td>...</td>\n",
       "      <td>...</td>\n",
       "      <td>...</td>\n",
       "    </tr>\n",
       "    <tr>\n",
       "      <th>461237</th>\n",
       "      <td>1.879790</td>\n",
       "      <td>75.00482</td>\n",
       "      <td>3.000193</td>\n",
       "      <td>79.819145</td>\n",
       "      <td>78.329117</td>\n",
       "      <td>29.627552</td>\n",
       "      <td>34.574463</td>\n",
       "      <td>1.992006</td>\n",
       "      <td>1.723834</td>\n",
       "      <td>6.002450</td>\n",
       "      <td>6.019177</td>\n",
       "      <td>0.300858</td>\n",
       "      <td>0.230055</td>\n",
       "      <td>0.152083</td>\n",
       "      <td>0.104703</td>\n",
       "      <td>4934550</td>\n",
       "      <td>82242</td>\n",
       "    </tr>\n",
       "    <tr>\n",
       "      <th>461238</th>\n",
       "      <td>1.879790</td>\n",
       "      <td>75.00482</td>\n",
       "      <td>3.000193</td>\n",
       "      <td>79.819145</td>\n",
       "      <td>78.329117</td>\n",
       "      <td>29.627552</td>\n",
       "      <td>34.574463</td>\n",
       "      <td>1.992006</td>\n",
       "      <td>1.723834</td>\n",
       "      <td>6.002450</td>\n",
       "      <td>6.019177</td>\n",
       "      <td>0.300858</td>\n",
       "      <td>0.230055</td>\n",
       "      <td>0.152083</td>\n",
       "      <td>0.104703</td>\n",
       "      <td>4934550</td>\n",
       "      <td>82242</td>\n",
       "    </tr>\n",
       "    <tr>\n",
       "      <th>461239</th>\n",
       "      <td>1.880171</td>\n",
       "      <td>75.00482</td>\n",
       "      <td>2.999912</td>\n",
       "      <td>79.819145</td>\n",
       "      <td>78.354111</td>\n",
       "      <td>29.627552</td>\n",
       "      <td>34.560806</td>\n",
       "      <td>1.992006</td>\n",
       "      <td>1.723834</td>\n",
       "      <td>6.002450</td>\n",
       "      <td>5.960248</td>\n",
       "      <td>0.300858</td>\n",
       "      <td>0.215435</td>\n",
       "      <td>0.156957</td>\n",
       "      <td>0.103140</td>\n",
       "      <td>4934580</td>\n",
       "      <td>82243</td>\n",
       "    </tr>\n",
       "    <tr>\n",
       "      <th>461240</th>\n",
       "      <td>1.880171</td>\n",
       "      <td>75.00482</td>\n",
       "      <td>2.999912</td>\n",
       "      <td>79.819145</td>\n",
       "      <td>78.354111</td>\n",
       "      <td>29.627552</td>\n",
       "      <td>34.560806</td>\n",
       "      <td>1.992006</td>\n",
       "      <td>1.723834</td>\n",
       "      <td>6.002450</td>\n",
       "      <td>5.960248</td>\n",
       "      <td>0.300858</td>\n",
       "      <td>0.215435</td>\n",
       "      <td>0.156957</td>\n",
       "      <td>0.103140</td>\n",
       "      <td>4934580</td>\n",
       "      <td>82243</td>\n",
       "    </tr>\n",
       "    <tr>\n",
       "      <th>461241</th>\n",
       "      <td>1.880171</td>\n",
       "      <td>75.00482</td>\n",
       "      <td>2.999912</td>\n",
       "      <td>79.819145</td>\n",
       "      <td>78.354111</td>\n",
       "      <td>29.627552</td>\n",
       "      <td>34.560806</td>\n",
       "      <td>1.992006</td>\n",
       "      <td>1.723834</td>\n",
       "      <td>6.002450</td>\n",
       "      <td>5.960248</td>\n",
       "      <td>0.300858</td>\n",
       "      <td>0.215435</td>\n",
       "      <td>0.156957</td>\n",
       "      <td>0.103140</td>\n",
       "      <td>4934580</td>\n",
       "      <td>82243</td>\n",
       "    </tr>\n",
       "  </tbody>\n",
       "</table>\n",
       "<p>461242 rows × 17 columns</p>\n",
       "</div>"
      ],
      "text/plain": [
       "        cell_voltage_001   current  current_density  temp_anode_inlet  \\\n",
       "0              -0.095167  -0.01262        -0.000505         22.524658   \n",
       "1              -0.095167  -0.01262        -0.000505         22.524658   \n",
       "2              -0.095167  -0.01262        -0.000505         22.524658   \n",
       "3              -0.095167  -0.01192        -0.000477         23.574999   \n",
       "4              -0.095167  -0.01192        -0.000477         23.574999   \n",
       "...                  ...       ...              ...               ...   \n",
       "461237          1.879790  75.00482         3.000193         79.819145   \n",
       "461238          1.879790  75.00482         3.000193         79.819145   \n",
       "461239          1.880171  75.00482         2.999912         79.819145   \n",
       "461240          1.880171  75.00482         2.999912         79.819145   \n",
       "461241          1.880171  75.00482         2.999912         79.819145   \n",
       "\n",
       "        temp_anode_outlet  temp_cathode_inlet  temp_cathode_outlet  \\\n",
       "0               22.211363           22.943993            22.664978   \n",
       "1               22.211363           22.943993            22.664978   \n",
       "2               22.211363           22.943993            22.664978   \n",
       "3               22.622944           22.930300            22.651320   \n",
       "4               22.622944           22.930300            22.651320   \n",
       "...                   ...                 ...                  ...   \n",
       "461237          78.329117           29.627552            34.574463   \n",
       "461238          78.329117           29.627552            34.574463   \n",
       "461239          78.354111           29.627552            34.560806   \n",
       "461240          78.354111           29.627552            34.560806   \n",
       "461241          78.354111           29.627552            34.560806   \n",
       "\n",
       "        pressure_anode_inlet  pressure_anode_outlet  pressure_cathode_inlet  \\\n",
       "0                   0.015911              -0.026205               -0.009285   \n",
       "1                   0.015911              -0.026205               -0.009285   \n",
       "2                   0.015911              -0.026205               -0.009285   \n",
       "3                   0.184089              -0.026205               -0.009285   \n",
       "4                   0.184089              -0.026205               -0.009285   \n",
       "...                      ...                    ...                     ...   \n",
       "461237              1.992006               1.723834                6.002450   \n",
       "461238              1.992006               1.723834                6.002450   \n",
       "461239              1.992006               1.723834                6.002450   \n",
       "461240              1.992006               1.723834                6.002450   \n",
       "461241              1.992006               1.723834                6.002450   \n",
       "\n",
       "        pressure_cathode_outlet  flow_anode_di_water_supply  \\\n",
       "0                     -0.009439                    0.149858   \n",
       "1                     -0.009439                    0.149858   \n",
       "2                     -0.009439                    0.149858   \n",
       "3                     -0.001021                    0.270174   \n",
       "4                     -0.001021                    0.270174   \n",
       "...                         ...                         ...   \n",
       "461237                 6.019177                    0.300858   \n",
       "461238                 6.019177                    0.300858   \n",
       "461239                 5.960248                    0.300858   \n",
       "461240                 5.960248                    0.300858   \n",
       "461241                 5.960248                    0.300858   \n",
       "\n",
       "        signal_in_resistivity_anode  signal_in_resistivity_cathode  \\\n",
       "0                          0.142337                       0.580925   \n",
       "1                          0.142337                       0.580925   \n",
       "2                          0.142337                       0.580925   \n",
       "3                          0.132591                       0.585798   \n",
       "4                          0.132591                       0.585798   \n",
       "...                             ...                            ...   \n",
       "461237                     0.230055                       0.152083   \n",
       "461238                     0.230055                       0.152083   \n",
       "461239                     0.215435                       0.156957   \n",
       "461240                     0.215435                       0.156957   \n",
       "461241                     0.215435                       0.156957   \n",
       "\n",
       "        signal_in_h2_in_o2_sensor  seconds  minutes  \n",
       "0                        0.278146        0        0  \n",
       "1                        0.278146        0        0  \n",
       "2                        0.278146        0        0  \n",
       "3                        0.276583       30        0  \n",
       "4                        0.276583       30        0  \n",
       "...                           ...      ...      ...  \n",
       "461237                   0.104703  4934550    82242  \n",
       "461238                   0.104703  4934550    82242  \n",
       "461239                   0.103140  4934580    82243  \n",
       "461240                   0.103140  4934580    82243  \n",
       "461241                   0.103140  4934580    82243  \n",
       "\n",
       "[461242 rows x 17 columns]"
      ]
     },
     "execution_count": 64,
     "metadata": {},
     "output_type": "execute_result"
    }
   ],
   "source": [
    "df = pd.read_csv(r'C:\\Users\\whiter04\\OneDrive - Johnson Matthey\\00. cspark\\ELY\\ELY-TimeSeries\\Data\\master_data_frame.csv')\n",
    "df_copy = df.copy()\n",
    "df_copy = df_copy.drop('Unnamed: 0',axis=1) \n",
    "df_copy\n",
    "\n",
    "\n",
    "to_drop = ['temp_anode_inlet_set', 'temp_cathode_inlet_set', 'pressure_anode_set',\n",
    "           'pressure_cathode_set', 'flow_anode_di_water_supply_set', 'flow_cathode_di_water_supply_set', \n",
    "          'flow_cathode_di_water_supply', 'signal_in_o2_in_h2_sensor']\n",
    "\n",
    "df_copy = df_copy.drop(to_drop, axis=1)\n",
    "df_copy\n",
    "\n",
    "\n",
    "df_copy['seconds'] = (df_copy['time_running_total']/1000).astype(int)\n",
    "df_copy['minutes'] = (df_copy['seconds']/60).astype(int)\n",
    "\n",
    "# df_copy['hours'] = (df_copy['minutes']/60).astype(int)\n",
    "# df_copy['days'] = (df_copy['hours']/24).astype(int)\n",
    "# df_copy['weeks'] = (df_copy['days']/7).astype(int)\n",
    "df_copy = df_copy.drop('time_running_total',axis=1)\n",
    "\n",
    "# df_copy = df_copy.tail(150000)\n",
    "df_copy"
   ]
  },
  {
   "cell_type": "code",
   "execution_count": 65,
   "id": "8dd9183a",
   "metadata": {
    "scrolled": true
   },
   "outputs": [
    {
     "data": {
      "image/png": "[encoded data removed]",
      "text/plain": [
       "<Figure size 432x288 with 1 Axes>"
      ]
     },
     "metadata": {
      "needs_background": "light"
     },
     "output_type": "display_data"
    },
    {
     "data": {
      "text/html": [
       "<div>\n",
       "<style scoped>\n",
       "    .dataframe tbody tr th:only-of-type {\n",
       "        vertical-align: middle;\n",
       "    }\n",
       "\n",
       "    .dataframe tbody tr th {\n",
       "        vertical-align: top;\n",
       "    }\n",
       "\n",
       "    .dataframe thead th {\n",
       "        text-align: right;\n",
       "    }\n",
       "</style>\n",
       "<table border=\"1\" class=\"dataframe\">\n",
       "  <thead>\n",
       "    <tr style=\"text-align: right;\">\n",
       "      <th></th>\n",
       "      <th>cell_voltage_001</th>\n",
       "      <th>current</th>\n",
       "      <th>signal_in_h2_in_o2_sensor</th>\n",
       "    </tr>\n",
       "    <tr>\n",
       "      <th>minutes</th>\n",
       "      <th></th>\n",
       "      <th></th>\n",
       "      <th></th>\n",
       "    </tr>\n",
       "  </thead>\n",
       "  <tbody>\n",
       "    <tr>\n",
       "      <th>2024-06-28 05:22:00</th>\n",
       "      <td>1.869836</td>\n",
       "      <td>75.000614</td>\n",
       "      <td>0.206269</td>\n",
       "    </tr>\n",
       "    <tr>\n",
       "      <th>2024-06-28 05:23:00</th>\n",
       "      <td>1.870217</td>\n",
       "      <td>74.997810</td>\n",
       "      <td>0.206269</td>\n",
       "    </tr>\n",
       "    <tr>\n",
       "      <th>2024-06-28 05:24:00</th>\n",
       "      <td>1.870637</td>\n",
       "      <td>74.995006</td>\n",
       "      <td>0.206269</td>\n",
       "    </tr>\n",
       "    <tr>\n",
       "      <th>2024-06-28 05:25:00</th>\n",
       "      <td>1.870370</td>\n",
       "      <td>74.997810</td>\n",
       "      <td>0.206269</td>\n",
       "    </tr>\n",
       "    <tr>\n",
       "      <th>2024-06-28 05:26:00</th>\n",
       "      <td>1.870332</td>\n",
       "      <td>75.009026</td>\n",
       "      <td>0.206269</td>\n",
       "    </tr>\n",
       "    <tr>\n",
       "      <th>...</th>\n",
       "      <td>...</td>\n",
       "      <td>...</td>\n",
       "      <td>...</td>\n",
       "    </tr>\n",
       "    <tr>\n",
       "      <th>2024-07-12 02:39:00</th>\n",
       "      <td>1.879218</td>\n",
       "      <td>74.993604</td>\n",
       "      <td>0.101265</td>\n",
       "    </tr>\n",
       "    <tr>\n",
       "      <th>2024-07-12 02:40:00</th>\n",
       "      <td>1.879294</td>\n",
       "      <td>75.000614</td>\n",
       "      <td>0.103140</td>\n",
       "    </tr>\n",
       "    <tr>\n",
       "      <th>2024-07-12 02:41:00</th>\n",
       "      <td>1.879599</td>\n",
       "      <td>74.996408</td>\n",
       "      <td>0.103140</td>\n",
       "    </tr>\n",
       "    <tr>\n",
       "      <th>2024-07-12 02:42:00</th>\n",
       "      <td>1.879790</td>\n",
       "      <td>75.000614</td>\n",
       "      <td>0.103765</td>\n",
       "    </tr>\n",
       "    <tr>\n",
       "      <th>2024-07-12 02:43:00</th>\n",
       "      <td>1.880171</td>\n",
       "      <td>75.004820</td>\n",
       "      <td>0.103140</td>\n",
       "    </tr>\n",
       "  </tbody>\n",
       "</table>\n",
       "<p>20000 rows × 3 columns</p>\n",
       "</div>"
      ],
      "text/plain": [
       "                     cell_voltage_001    current  signal_in_h2_in_o2_sensor\n",
       "minutes                                                                    \n",
       "2024-06-28 05:22:00          1.869836  75.000614                   0.206269\n",
       "2024-06-28 05:23:00          1.870217  74.997810                   0.206269\n",
       "2024-06-28 05:24:00          1.870637  74.995006                   0.206269\n",
       "2024-06-28 05:25:00          1.870370  74.997810                   0.206269\n",
       "2024-06-28 05:26:00          1.870332  75.009026                   0.206269\n",
       "...                               ...        ...                        ...\n",
       "2024-07-12 02:39:00          1.879218  74.993604                   0.101265\n",
       "2024-07-12 02:40:00          1.879294  75.000614                   0.103140\n",
       "2024-07-12 02:41:00          1.879599  74.996408                   0.103140\n",
       "2024-07-12 02:42:00          1.879790  75.000614                   0.103765\n",
       "2024-07-12 02:43:00          1.880171  75.004820                   0.103140\n",
       "\n",
       "[20000 rows x 3 columns]"
      ]
     },
     "execution_count": 65,
     "metadata": {},
     "output_type": "execute_result"
    }
   ],
   "source": [
    "import matplotlib.pyplot as plt\n",
    "\n",
    "time_period = 'minutes'\n",
    "\n",
    "df_time = df_copy.groupby(time_period).mean().reset_index()\n",
    "\n",
    "downsampled_df = df_time.tail(20000).reset_index()\n",
    "\n",
    "downsampled_df = downsampled_df[['minutes','cell_voltage_001','current','signal_in_h2_in_o2_sensor']]\n",
    "\n",
    "downsampled_df[time_period] = pd.to_datetime('2024-05-16 00:00:00') + pd.to_timedelta(downsampled_df[time_period], unit='m')\n",
    "\n",
    "\n",
    "\n",
    "plt.plot(downsampled_df['signal_in_h2_in_o2_sensor'])\n",
    "\n",
    "plt.show()\n",
    "\n",
    "downsampled_df = downsampled_df.set_index('minutes')\n",
    "downsampled_df"
   ]
  },
  {
   "cell_type": "code",
   "execution_count": 78,
   "id": "b1b4de67",
   "metadata": {},
   "outputs": [],
   "source": [
    "\n",
    "pipeline = Pipeline([\n",
    "    ('scaler', MinMaxScaler()),\n",
    "\n",
    "])\n",
    "\n",
    "# Fit and transform the data\n",
    "\n",
    "\n",
    "features = downsampled_df.drop(columns= ['signal_in_h2_in_o2_sensor'])\n",
    "target = downsampled_df['signal_in_h2_in_o2_sensor']\n",
    "\n",
    "\n",
    "features_trans = pipeline.fit_transform(features)\n",
    "target_trans = pipeline.fit_transform(pd.DataFrame(target))\n",
    "\n",
    "\n",
    "\n",
    "seq_length = 1  # Using one to predict the next minute\n",
    "X, y = create_sequences(features_trans, target_trans, seq_length)"
   ]
  },
  {
   "cell_type": "code",
   "execution_count": 67,
   "id": "753b8d57",
   "metadata": {},
   "outputs": [],
   "source": [
    "\n",
    "\n",
    "train_size = int(len(X) * 0.8)\n",
    "X_train, X_test = X[:train_size], X[train_size:]\n",
    "y_train, y_test = y[:train_size], y[train_size:]\n",
    "\n"
   ]
  },
  {
   "cell_type": "code",
   "execution_count": 69,
   "id": "af704016",
   "metadata": {},
   "outputs": [
    {
     "data": {
      "text/plain": [
       "(19999, 1, 3)"
      ]
     },
     "execution_count": 69,
     "metadata": {},
     "output_type": "execute_result"
    }
   ],
   "source": [
    "X.shape"
   ]
  },
  {
   "cell_type": "code",
   "execution_count": 70,
   "id": "67488ce4",
   "metadata": {},
   "outputs": [
    {
     "name": "stdout",
     "output_type": "stream",
     "text": [
      "Model: \"sequential_3\"\n",
      "_________________________________________________________________\n",
      " Layer (type)                Output Shape              Param #   \n",
      "=================================================================\n",
      " lstm_10 (LSTM)              (None, 1, 10)             560       \n",
      "                                                                 \n",
      " dropout_2 (Dropout)         (None, 1, 10)             0         \n",
      "                                                                 \n",
      " lstm_11 (LSTM)              (None, 50)                12200     \n",
      "                                                                 \n",
      " dropout_3 (Dropout)         (None, 50)                0         \n",
      "                                                                 \n",
      " dense_3 (Dense)             (None, 1)                 51        \n",
      "                                                                 \n",
      "=================================================================\n",
      "Total params: 12811 (50.04 KB)\n",
      "Trainable params: 12811 (50.04 KB)\n",
      "Non-trainable params: 0 (0.00 Byte)\n",
      "_________________________________________________________________\n"
     ]
    }
   ],
   "source": [
    "model = Sequential([\n",
    "    LSTM(10, return_sequences=True, input_shape=(X_train.shape[1], X_train.shape[2])),\n",
    "#     Use Dropout Regularization: Adding dropout can help prevent overfitting\n",
    "    Dropout(0.2),\n",
    "    LSTM(50),\n",
    "    Dropout(0.2),\n",
    "    Dense(1)\n",
    "])\n",
    "\n",
    "model.compile(optimizer='adam', loss='mean_absolute_error')\n",
    "model.summary()"
   ]
  },
  {
   "cell_type": "code",
   "execution_count": 71,
   "id": "d3f63bb6",
   "metadata": {
    "scrolled": true
   },
   "outputs": [
    {
     "name": "stdout",
     "output_type": "stream",
     "text": [
      "Epoch 1/3\n",
      "15999/15999 [==============================] - 53s 3ms/step - loss: 0.0484\n",
      "Epoch 2/3\n",
      "15999/15999 [==============================] - 45s 3ms/step - loss: 0.0331\n",
      "Epoch 3/3\n",
      "15999/15999 [==============================] - 49s 3ms/step - loss: 0.0316\n"
     ]
    },
    {
     "data": {
      "text/plain": [
       "<keras.src.callbacks.History at 0x1c9857b29d0>"
      ]
     },
     "execution_count": 71,
     "metadata": {},
     "output_type": "execute_result"
    }
   ],
   "source": [
    "model.fit(X_train, y_train, epochs=3, batch_size=1, verbose=1)\n",
    "\n",
    "# with open('model_3.pkl', 'wb') as file:\n",
    "#     pickle.dump(model, file)\n"
   ]
  },
  {
   "cell_type": "code",
   "execution_count": 72,
   "id": "d91909c8",
   "metadata": {
    "scrolled": true
   },
   "outputs": [
    {
     "name": "stdout",
     "output_type": "stream",
     "text": [
      "125/125 [==============================] - 1s 2ms/step - loss: 0.0161\n"
     ]
    },
    {
     "data": {
      "text/plain": [
       "0.016055943444371223"
      ]
     },
     "execution_count": 72,
     "metadata": {},
     "output_type": "execute_result"
    }
   ],
   "source": [
    "loss = model.evaluate(X_test, y_test)\n",
    "loss"
   ]
  },
  {
   "cell_type": "code",
   "execution_count": 73,
   "id": "4f2eb78e",
   "metadata": {
    "scrolled": true
   },
   "outputs": [
    {
     "name": "stdout",
     "output_type": "stream",
     "text": [
      "125/125 [==============================] - 1s 2ms/step\n"
     ]
    },
    {
     "data": {
      "text/plain": [
       "array([[0.40943033],\n",
       "       [0.40521666],\n",
       "       [0.39887774],\n",
       "       ...,\n",
       "       [0.38808092],\n",
       "       [0.3880161 ],\n",
       "       [0.39007363]], dtype=float32)"
      ]
     },
     "execution_count": 73,
     "metadata": {},
     "output_type": "execute_result"
    }
   ],
   "source": [
    "predictions = model.predict(X_test)\n",
    "predictions"
   ]
  },
  {
   "cell_type": "code",
   "execution_count": 74,
   "id": "a67b8228",
   "metadata": {},
   "outputs": [
    {
     "data": {
      "image/png": "[encoded data removed]",
      "text/plain": [
       "<Figure size 720x432 with 1 Axes>"
      ]
     },
     "metadata": {
      "needs_background": "light"
     },
     "output_type": "display_data"
    }
   ],
   "source": [
    "import matplotlib.pyplot as plt\n",
    "\n",
    "plt.figure(figsize=(10, 6))\n",
    "plt.plot(y_test, label='Actual Crossover Rate')\n",
    "plt.plot(predictions, label='Predicted Crossover Rate')\n",
    "plt.legend()\n",
    "plt.show()"
   ]
  },
  {
   "cell_type": "code",
   "execution_count": 75,
   "id": "5f27168c",
   "metadata": {},
   "outputs": [
    {
     "name": "stdout",
     "output_type": "stream",
     "text": [
      "500/500 [==============================] - 1s 2ms/step\n"
     ]
    },
    {
     "data": {
      "text/plain": [
       "array([[0.73920095],\n",
       "       [0.7391381 ],\n",
       "       [0.73906916],\n",
       "       ...,\n",
       "       [0.40943033],\n",
       "       [0.4125512 ],\n",
       "       [0.4094228 ]], dtype=float32)"
      ]
     },
     "execution_count": 75,
     "metadata": {},
     "output_type": "execute_result"
    }
   ],
   "source": [
    "predictions_train = model.predict(X_train)\n",
    "predictions_train"
   ]
  },
  {
   "cell_type": "code",
   "execution_count": 76,
   "id": "12035c4e",
   "metadata": {},
   "outputs": [
    {
     "data": {
      "image/png": "[encoded data removed]",
      "text/plain": [
       "<Figure size 720x432 with 1 Axes>"
      ]
     },
     "metadata": {
      "needs_background": "light"
     },
     "output_type": "display_data"
    }
   ],
   "source": [
    "plt.figure(figsize=(10, 6))\n",
    "plt.plot(y_train, label='Actual Crossover Rate')\n",
    "plt.plot(predictions_train, label='Predicted Crossover Rate')\n",
    "plt.legend()\n",
    "plt.show()"
   ]
  },
  {
   "cell_type": "code",
   "execution_count": null,
   "id": "be864be4",
   "metadata": {},
   "outputs": [],
   "source": []
  }
 ],
 "metadata": {
  "kernelspec": {
   "display_name": "Python 3 (ipykernel)",
   "language": "python",
   "name": "python3"
  },
  "language_info": {
   "codemirror_mode": {
    "name": "ipython",
    "version": 3
   },
   "file_extension": ".py",
   "mimetype": "text/x-python",
   "name": "python",
   "nbconvert_exporter": "python",
   "pygments_lexer": "ipython3",
   "version": "3.9.18"
  }
 },
 "nbformat": 4,
 "nbformat_minor": 5
}
