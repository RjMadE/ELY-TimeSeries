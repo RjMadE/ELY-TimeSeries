{
 "cells": [
  {
   "cell_type": "code",
   "execution_count": null,
   "id": "f7dd03c4-b560-41b8-8029-6b3510f854cf",
   "metadata": {},
   "outputs": [],
   "source": [
    "import pandas as pd\n",
    "import numpy as np\n",
    "import os\n",
    "import shutil\n",
    "\n",
    "import matplotlib.pyplot as plt\n",
    "# import seaborn as sns\n",
    "import matplotlib as plt\n",
    "import re\n",
    "from sklearn.model_selection import train_test_split\n",
    "from sklearn.preprocessing import MinMaxScaler\n",
    "\n",
    "from sklearn.metrics import mean_squared_error\n",
    "\n",
    "\n",
    "from statsmodels.tsa.statespace.sarimax import SARIMAX\n",
    "from sklearn.metrics import mean_squared_error, r2_score\n",
    "from itertools import product\n",
    "from sklearn.model_selection import TimeSeriesSplit, GridSearchCV\n",
    "from statsmodels.graphics.tsaplots import plot_acf, plot_pacf\n",
    "\n",
    "\n",
    "from scipy.stats import kstest, shapiro\n",
    "\n",
    "\n",
    "from prophet import Prophet\n",
    "import cmdstanpy\n",
    "cmdstanpy.install_cmdstan(compiler=True)"
   ]
  },
  {
   "cell_type": "code",
   "execution_count": null,
   "id": "c0e238c2-b6e2-4ff9-9ed5-34dd6f5fc1d8",
   "metadata": {},
   "outputs": [],
   "source": [
    "# Read CSV and drop redundant columns\n",
    "\n",
    "df = pd.read_csv('master_data_frame.csv')\n",
    "df_copy = df.copy()\n",
    "df_copy = df_copy.drop('Unnamed: 0',axis=1) \n",
    "\n",
    "\n",
    "to_drop = ['temp_anode_inlet_set', 'temp_cathode_inlet_set', 'pressure_anode_set',\n",
    "           'pressure_cathode_set', 'flow_anode_di_water_supply_set', 'flow_cathode_di_water_supply_set', \n",
    "          'flow_cathode_di_water_supply', 'signal_in_o2_in_h2_sensor']\n",
    "\n",
    "df_copy = df_copy.drop(to_drop, axis=1)\n",
    "\n",
    "\n",
    "\n",
    "\n",
    "# agregate into different time quanta?\n",
    "\n",
    "\n",
    "df_copy['minutes'] = ((df_copy['time_running_total']/1000)/60).astype(int)\n",
    "df_copy['hours'] = (df_copy['minutes']/60).astype(int)\n",
    "df_copy['days'] = (df_copy['hours']/24).astype(int)\n",
    "df_copy['weeks'] = (df_copy['days']/7).astype(int)\n",
    "df_copy = df_copy.drop('time_running_total',axis=1)\n",
    "\n",
    "df_copy\n"
   ]
  },
  {
   "cell_type": "code",
   "execution_count": null,
   "id": "bfdc3038-8083-4b8e-9095-dba4cb2bb6df",
   "metadata": {},
   "outputs": [],
   "source": []
  }
 ],
 "metadata": {
  "kernelspec": {
   "display_name": "Python 3 (ipykernel)",
   "language": "python",
   "name": "python3"
  },
  "language_info": {
   "codemirror_mode": {
    "name": "ipython",
    "version": 3
   },
   "file_extension": ".py",
   "mimetype": "text/x-python",
   "name": "python",
   "nbconvert_exporter": "python",
   "pygments_lexer": "ipython3",
   "version": "3.8.19"
  }
 },
 "nbformat": 4,
 "nbformat_minor": 5
}
